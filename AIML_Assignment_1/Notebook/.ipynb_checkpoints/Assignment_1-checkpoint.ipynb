{
 "cells": [
  {
   "cell_type": "markdown",
   "id": "e13f1485-ea36-4bf1-904f-3c7db21d5eec",
   "metadata": {},
   "source": [
    "## <center style=\"color: red\"> \"Artificial Intelligence and Data Science\" </center>\n",
    "## <center style=\"color: red\"> Assignment 02</center>"
   ]
  },
  {
   "cell_type": "markdown",
   "id": "f403c3d8-51fe-4cea-bcbf-1a514fb5fbec",
   "metadata": {},
   "source": [
    "### <i>Problem 01: ARITHMETIC OPERATIONS</i>"
   ]
  },
  {
   "cell_type": "code",
   "execution_count": 5,
   "id": "7c345b53-6b53-47bc-a729-d5ee8e603ef0",
   "metadata": {},
   "outputs": [],
   "source": [
    "#Define operations using lambdas\n",
    "operations = {\n",
    "    \"add\": lambda x, y: (x + y),\n",
    "    \"subtract\": lambda x, y: (x - y),\n",
    "    \"multiply\": lambda x, y: (x * y),\n",
    "    \"divide\": lambda x, y:  round((x / y), 2)\n",
    "}\n",
    "\n",
    "#Function to perform on selected operation\n",
    "def calculator(num1, num2, operation):\n",
    "    operation_fun = operations.get(operation)\n",
    "    return operation_fun(num1, num2)\n",
    "\n",
    "#Function to select the operation\n",
    "def select_operation():\n",
    "    while True:\n",
    "        print(\"Enter any of the below operation\")\n",
    "        print(\" 👉 add\")\n",
    "        print(\" 👉 subtract\")\n",
    "        print(\" 👉 multiply\")\n",
    "        print(\" 👉 divide\")\n",
    "\n",
    "        return input(\"Enter operation: \")"
   ]
  },
  {
   "cell_type": "code",
   "execution_count": 6,
   "id": "dee5d6fd-c5d3-4ddf-b8ec-7ecb6d83be07",
   "metadata": {},
   "outputs": [
    {
     "name": "stdin",
     "output_type": "stream",
     "text": [
      "Enter ist number:  10\n",
      "Enter 2nd number:  20\n"
     ]
    },
    {
     "name": "stdout",
     "output_type": "stream",
     "text": [
      "Enter any of the below operation\n",
      " 👉 add\n",
      " 👉 subtract\n",
      " 👉 multiply\n",
      " 👉 divide\n"
     ]
    },
    {
     "name": "stdin",
     "output_type": "stream",
     "text": [
      "Enter operation:  add\n"
     ]
    },
    {
     "name": "stdout",
     "output_type": "stream",
     "text": [
      "The add of given two numbers is: 30\n"
     ]
    }
   ],
   "source": [
    "# Test the logic\n",
    "num1 = int(input(\"Enter ist number: \"))\n",
    "num2 = int(input(\"Enter 2nd number: \"))\n",
    "\n",
    "#Select operation\n",
    "operation_selected = select_operation()\n",
    "print(f\"The {operation_selected} of given two numbers is: {calculator(num1, num2, operation_selected)}\")"
   ]
  },
  {
   "cell_type": "markdown",
   "id": "a738d251-379d-4b19-91a8-f75107b54cfb",
   "metadata": {},
   "source": [
    "### <i>Problem 02: ARITHMETIC OPERATIONS CONTINUED</i>"
   ]
  },
  {
   "cell_type": "code",
   "execution_count": 7,
   "id": "492c76cd-61ad-4620-9ed4-bc67dd021c02",
   "metadata": {},
   "outputs": [],
   "source": [
    "#Function to perform addition\n",
    "def add(nums):\n",
    "    sum = 0\n",
    "    for num in nums:\n",
    "        sum += num\n",
    "    return sum\n",
    "    \n",
    "\n",
    "#Function to perform multiplication\n",
    "def multiply(nums):\n",
    "    mul = 1\n",
    "    for num in nums:\n",
    "        mul *= num\n",
    "    return round(mul, 2)\n",
    "\n",
    "\n",
    "#Define operations using functions\n",
    "operations = {\n",
    "    \"add\": add,\n",
    "    \"multiply\": multiply\n",
    "}\n",
    "\n",
    "#Function to perform on selected operation(variable len arguments)\n",
    "def calculator(operation, *nums):\n",
    "    return operations.get(operation)(nums)\n",
    "\n",
    "\n",
    "#Function to select the operation\n",
    "def select_operation():\n",
    "    while True:\n",
    "        print(\"Enter any of the below operation\")\n",
    "        print(\" 👉 add\")\n",
    "        print(\" 👉 multiply\")\n",
    "\n",
    "        return input(\"Enter operation: \")"
   ]
  },
  {
   "cell_type": "code",
   "execution_count": 8,
   "id": "ea3918ca-41b3-4317-8f76-6ea37043e22e",
   "metadata": {},
   "outputs": [
    {
     "name": "stdout",
     "output_type": "stream",
     "text": [
      "Enter any of the below operation\n",
      " 👉 add\n",
      " 👉 multiply\n"
     ]
    },
    {
     "name": "stdin",
     "output_type": "stream",
     "text": [
      "Enter operation:  add\n"
     ]
    },
    {
     "name": "stdout",
     "output_type": "stream",
     "text": [
      "Result of add operation is : 13.2\n"
     ]
    }
   ],
   "source": [
    "#Test the logic\n",
    "#Select operation\n",
    "operation_selected = select_operation()\n",
    "\n",
    "#Variable length arguments\n",
    "result = calculator(operation_selected, 1, 2, 3, 4, 3.2)\n",
    "print(f\"Result of {operation_selected} operation is : {result}\")\n"
   ]
  },
  {
   "cell_type": "code",
   "execution_count": null,
   "id": "de1ab020-c82a-4c0e-b904-a00c331b7af3",
   "metadata": {},
   "outputs": [],
   "source": []
  },
  {
   "cell_type": "code",
   "execution_count": 9,
   "id": "ad962cca-cf9c-4809-90f1-e98181bc35c0",
   "metadata": {},
   "outputs": [],
   "source": [
    "#Function to perform addition\n",
    "def add(nums):\n",
    "    sum = 0\n",
    "    for key, value in nums.items():\n",
    "        sum += value\n",
    "    return sum\n",
    "    \n",
    "#Function to perform multiplication\n",
    "def multiply(nums):\n",
    "    mul = 1\n",
    "    for key, value in nums.items():\n",
    "        mul *= value\n",
    "    return round(mul, 2)\n",
    "\n",
    "\n",
    "\n",
    "#Define operations using functions\n",
    "operations = {\n",
    "    \"add\": add,\n",
    "    \"multiply\": multiply\n",
    "}     \n",
    "        \n",
    "#Function to perform on selected operation(keyword variable len arguments)\n",
    "def calculator(operation, **kwargs):\n",
    "    return operations.get(operation)(kwargs)"
   ]
  },
  {
   "cell_type": "code",
   "execution_count": 10,
   "id": "cf748902-dd0c-4619-a742-986c67f2d77e",
   "metadata": {},
   "outputs": [
    {
     "name": "stdout",
     "output_type": "stream",
     "text": [
      "Enter any of the below operation\n",
      " 👉 add\n",
      " 👉 multiply\n"
     ]
    },
    {
     "name": "stdin",
     "output_type": "stream",
     "text": [
      "Enter operation:  add\n"
     ]
    },
    {
     "name": "stdout",
     "output_type": "stream",
     "text": [
      "Result of add operation is : 122\n"
     ]
    }
   ],
   "source": [
    "#Test the logic\n",
    "#Select operation\n",
    "operation_selected = select_operation()\n",
    "\n",
    "#keyword arguments\n",
    "result = calculator(operation=operation_selected, num1=2, num2=30, num3=90)\n",
    "print(f\"Result of {operation_selected} operation is : {result}\")"
   ]
  },
  {
   "cell_type": "code",
   "execution_count": null,
   "id": "9c1ccbda-3ca4-4896-97dc-0e5ba30640fd",
   "metadata": {},
   "outputs": [],
   "source": []
  },
  {
   "cell_type": "markdown",
   "id": "5b588aac-108b-4933-9bb3-c3030bc815c4",
   "metadata": {},
   "source": [
    "### <i>Problem 03: PLAYING WITH STRINGS</i>"
   ]
  },
  {
   "cell_type": "code",
   "execution_count": 11,
   "id": "4ab2f73d-3a9d-4acd-9509-589433f07275",
   "metadata": {},
   "outputs": [],
   "source": [
    "\n",
    "#Function to select the operation\n",
    "def select_operation():\n",
    "    while True:\n",
    "        print(\"Enter any of the below operation\")\n",
    "        print(\" 👉 concatenation\")\n",
    "        print(\" 👉 1\")\n",
    "        print(\" 👉 i\")\n",
    "\n",
    "        return input(\"Enter operation: \")\n",
    "        \n",
    "\n",
    "#Function to perform string concatenation\n",
    "def concatenation(args):\n",
    "    new_string = \"\"\n",
    "    for arg in args:\n",
    "        new_string += arg\n",
    "        \n",
    "    return new_string\n",
    "\n",
    "#Function to perfrom string concatenation by taking first character of each string\n",
    "def concatenate_initials(args):\n",
    "    new_string = \"\"\n",
    "    for arg in args:\n",
    "        new_string += arg[0]\n",
    "\n",
    "    return new_string\n",
    "    \n",
    "\n",
    "#Function to perfrom concatenation by taking i character of each string\n",
    "def concatenate_ith_character(i, args):\n",
    "    #Assume that each string does not contain the ith character by setting (flag to False).\n",
    "    flag = False\n",
    "    new_string = \"\"\n",
    "    \n",
    "    for arg in args:\n",
    "        if i < len(arg):\n",
    "            new_string += arg[i]\n",
    "            flag = True\n",
    "            \n",
    "    if flag:\n",
    "        return new_string\n",
    "    else:\n",
    "        return \"No String Found🙃\"   \n",
    "\n",
    "\n",
    "#Define operations\n",
    "operations = {\n",
    "    \"concatenation\": concatenation,\n",
    "    \"1\": concatenate_initials,\n",
    "    \"i\": concatenate_ith_character\n",
    "}\n",
    "\n",
    "\n",
    "#Runner\n",
    "def runner(*args, operation, i=None):\n",
    "    if i == None:\n",
    "        return operations.get(operation)(args)\n",
    "    else:\n",
    "        return operations.get(operation)(i, args)"
   ]
  },
  {
   "cell_type": "code",
   "execution_count": 12,
   "id": "ca5f222a-05d0-46d4-8ccc-c3811c930a4e",
   "metadata": {},
   "outputs": [
    {
     "name": "stdout",
     "output_type": "stream",
     "text": [
      "Enter any of the below operation\n",
      " 👉 concatenation\n",
      " 👉 1\n",
      " 👉 i\n"
     ]
    },
    {
     "name": "stdin",
     "output_type": "stream",
     "text": [
      "Enter operation:  1\n"
     ]
    },
    {
     "name": "stdout",
     "output_type": "stream",
     "text": [
      "Final Result: ZRMK\n"
     ]
    }
   ],
   "source": [
    "#Test the logic\n",
    "operation_selected = select_operation()\n",
    "\n",
    "if operation_selected in [\"concatenation\", \"1\"]:\n",
    "    result = runner(\"Zakir\", \"Rashid\", \"Mir\", \"Kupwara\", operation=operation_selected)\n",
    "else:\n",
    "    index = int(input(\"Please Enter the value of ith index: \"))\n",
    "    result = runner(\"Zakir\", \"Rashid\", \"Mir\", \"Kupwara\", operation=operation_selected, i=index)\n",
    "\n",
    "print(f\"Final Result: {result}\")\n"
   ]
  },
  {
   "cell_type": "code",
   "execution_count": null,
   "id": "4e411908-ef17-46e0-888b-392e25f644e5",
   "metadata": {},
   "outputs": [],
   "source": []
  },
  {
   "cell_type": "markdown",
   "id": "1d8b0824-65db-4862-82a4-8b191524d828",
   "metadata": {},
   "source": [
    "### <i> Problem 04: PLAYING WITH STRINGS AGAIN </i>"
   ]
  },
  {
   "cell_type": "code",
   "execution_count": 13,
   "id": "c44fbc0a-e13f-46e2-9e87-f77f26d2d831",
   "metadata": {},
   "outputs": [],
   "source": [
    "def is_present(str1, sub):\n",
    "\n",
    "    #Compute lengths of each string\n",
    "    len1 = len(sub)\n",
    "    len2 = len(str1)\n",
    "\n",
    "    #Set both the pointers to the first indicies\n",
    "    i = j = 0\n",
    "    while i < len1 and j < len2:\n",
    "        while j < len2:\n",
    "            if sub[i] == str1[j]:\n",
    "                i += 1\n",
    "                j += 1\n",
    "                break\n",
    "            else:\n",
    "                #If there is not match for the first character of sub, then\n",
    "                #set sub pointer to first index, in order to check its firsrt character with\n",
    "                #k character of str\n",
    "                i = 0\n",
    "                j += 1\n",
    "\n",
    "    #Check if i traverse the whole substring\n",
    "    if i == len1:\n",
    "        return True\n",
    "    else:\n",
    "        return False\n",
    "            \n",
    "    "
   ]
  },
  {
   "cell_type": "code",
   "execution_count": 14,
   "id": "cf1147e4-9ba1-4d11-af63-fad970399a78",
   "metadata": {},
   "outputs": [
    {
     "name": "stdin",
     "output_type": "stream",
     "text": [
      "Enter first string:  xack\n",
      "Enter second string:  ac\n"
     ]
    },
    {
     "name": "stdout",
     "output_type": "stream",
     "text": [
      "Sub string 'ac' is present in 'xack'\n"
     ]
    }
   ],
   "source": [
    "#Test the logic\n",
    "string = input(\"Enter first string: \")\n",
    "sub = input(\"Enter second string: \")\n",
    "\n",
    "if is_present(string, sub):\n",
    "    print(f\"Sub string '{sub}' is present in '{string}'\")\n",
    "else:\n",
    "    print(f\"String '{sub}' is NOT present in '{string}'\")\n",
    "    \n",
    "    "
   ]
  },
  {
   "cell_type": "code",
   "execution_count": null,
   "id": "6055fcc5-7795-444e-9f50-5c6bdaa4c8bc",
   "metadata": {},
   "outputs": [],
   "source": []
  },
  {
   "cell_type": "markdown",
   "id": "e5862e76-1e0a-4f79-87e3-4d2811205f0d",
   "metadata": {},
   "source": [
    "### <i> Problem 05: DIVIDE STRINGS </i>"
   ]
  },
  {
   "cell_type": "code",
   "execution_count": 15,
   "id": "01f47f96-b48d-4e4f-9d53-d04ca8d582e3",
   "metadata": {},
   "outputs": [],
   "source": [
    "def divide_string(str1):\n",
    "    part1 = \"\"\n",
    "    part2 = \"\"\n",
    "\n",
    "    #Convert string into list of characters\n",
    "    str_list = [char for char in str1]\n",
    "\n",
    "    for i in range(len(str_list)):\n",
    "        if (i % 2 == 0 or i % 3 == 0) and i % 6 != 0:\n",
    "            part1 += str_list[i]\n",
    "        else:\n",
    "            part2 += str_list[i]\n",
    "\n",
    "    return part1, part2\n",
    "    "
   ]
  },
  {
   "cell_type": "code",
   "execution_count": 16,
   "id": "282976ca-2247-47a7-b10f-f1a834c4b8ae",
   "metadata": {},
   "outputs": [
    {
     "name": "stdin",
     "output_type": "stream",
     "text": [
      "Enter the string:  xakc\n"
     ]
    },
    {
     "name": "stdout",
     "output_type": "stream",
     "text": [
      "Part of string that's divisible by 2 or 3 but not both is : 'kc'\n",
      "Rest part of string: 'xa'\n"
     ]
    }
   ],
   "source": [
    "#Test the logic\n",
    "str1 = input(\"Enter the string: \")\n",
    "part1, part2 = divide_string(str1)\n",
    "\n",
    "print(f\"Part of string that's divisible by 2 or 3 but not both is : '{part1}'\")\n",
    "print(f\"Rest part of string: '{part2}'\")\n"
   ]
  },
  {
   "cell_type": "code",
   "execution_count": null,
   "id": "0bb57cd6-56b1-46b9-a3f2-0bfffc3e2a29",
   "metadata": {},
   "outputs": [],
   "source": []
  },
  {
   "cell_type": "markdown",
   "id": "c080e202-f824-4706-b51f-97a877e08561",
   "metadata": {},
   "source": [
    "### <i> Problem 06: PRINTING SERIES </i>"
   ]
  },
  {
   "cell_type": "code",
   "execution_count": 17,
   "id": "5edb33b3-f2f5-44d6-b97a-44d670afad88",
   "metadata": {},
   "outputs": [],
   "source": [
    "import math\n",
    "#Generate fibonacci sequence\n",
    "def fibonacci_sequence(n):\n",
    "    \"\"\"\n",
    "    Generate a fibonacci sequence of length n\n",
    "    (0 1 1 2 3 5 8 13 21 ... )\n",
    "    \n",
    "    Args:\n",
    "    n(int): length of fibonaaci squence to generate\n",
    "\n",
    "    Returns:\n",
    "    list: Fibonacci sequence of length n\n",
    "    \"\"\"\n",
    "    fib_seq_list = []\n",
    "    num1, num2 = 0, 1\n",
    "    #Generate the fibonaaci squence\n",
    "    for i in range(n):\n",
    "        num3 = num1 + num2\n",
    "        num1, num2 = num2, num3\n",
    "\n",
    "        #Append the generated number to the list\n",
    "        fib_seq_list.append(num1)\n",
    "        \n",
    "    return fib_seq_list\n",
    "\n",
    "\n",
    "#Generate multiples of given number   \n",
    "def multiples_of_series(series, bound):\n",
    "    \"\"\"\n",
    "    Generate multiples of series\n",
    "    \n",
    "    Args:\n",
    "    int(series): series is an integer whome which we have to calculate multiples\n",
    "    int(bound): calculate multiples upto certain range, given by bound\n",
    "\n",
    "    Returns:\n",
    "    list: multiples of series\n",
    "    \"\"\"\n",
    "    #Compute multiples of series\n",
    "    multiples = [x * series for x in range(1, bound + 1)]\n",
    "    return multiples\n",
    "\n",
    "\n",
    "    \n",
    "#Generate frist B odd integers\n",
    "def ist_b_odd_integers(bound):\n",
    "    odd_integers = [x for x in range(1, 2 * bound + 1) if x % 2 != 0]\n",
    "    return odd_integers\n",
    "\n",
    "\n",
    "\n",
    "#Generate first B prime numbers\n",
    "def ist_b_prime_numbers(bound):\n",
    "    #Store prime numbers\n",
    "    prime_numbers = [2]\n",
    "    #Check from number 3, and move onwards\n",
    "    num = 3\n",
    "    #Keep track of count of prime numbers\n",
    "    count = 0\n",
    "    \n",
    "    while True:\n",
    "        #Assume that the number is prime by setting (flag = True)\n",
    "        flag = True\n",
    "        \n",
    "        #If count == bound, then our requirement is fullfilled, hence break        \n",
    "        if count == bound:\n",
    "            break\n",
    "        \n",
    "        #Check weather 'num' is a prime number or not if so, then append to prime_number list\n",
    "        for i in range(2, math.ceil(math.sqrt(num)) + 1):\n",
    "            if num % i == 0:\n",
    "                flag = False\n",
    "                break\n",
    "        if flag:\n",
    "            count += 1\n",
    "            prime_numbers.append(num)\n",
    "\n",
    "        #Increment number by 1\n",
    "        num += 1\n",
    "       \n",
    "    return prime_numbers\n",
    "            \n",
    "        \n",
    "    \n",
    "\n",
    "#Check for series type\n",
    "def series_type(bound, series):\n",
    "    if series == \"fibonacci\":\n",
    "        return fibonacci_sequence(bound)\n",
    "    elif series == \"8\":\n",
    "        return multiples_of_series(int(series), bound)\n",
    "    elif series == \"odd\":\n",
    "        return ist_b_odd_integers(bound)\n",
    "    elif series == \"prime\":\n",
    "        return ist_b_prime_numbers(bound)\n",
    "    \n",
    "\n",
    "list_sequence_number = []\n",
    "#Return list of number sequence\n",
    "def printing_series(bound, series, otype=None):\n",
    "    global list_sequence_number\n",
    "\n",
    "    #Store all the generated numbers into list_sequence_number list\n",
    "    list_sequence_number += series_type(bound, series)\n",
    "    "
   ]
  },
  {
   "cell_type": "code",
   "execution_count": 18,
   "id": "352083d7-d715-44ad-9b00-4ab183b37c50",
   "metadata": {},
   "outputs": [
    {
     "name": "stdin",
     "output_type": "stream",
     "text": [
      "Enter bound:  10\n"
     ]
    },
    {
     "name": "stdout",
     "output_type": "stream",
     "text": [
      "Required list sequence\n",
      "[1, 1, 2, 3, 5, 8, 13, 21, 34, 55, 8, 16, 24, 32, 40, 48, 56, 64, 72, 80, 1, 3, 5, 7, 9, 11, 13, 15, 17, 19, 2, 3, 5, 7, 11, 13, 17, 19, 23, 29, 31]\n"
     ]
    }
   ],
   "source": [
    "#Test the logic\n",
    "bound = int(input(\"Enter bound: \"))\n",
    "\n",
    "\n",
    "printing_series(bound, series=\"fibonacci\")\n",
    "printing_series(bound, series=\"8\")\n",
    "printing_series(bound, series=\"odd\")\n",
    "printing_series(bound, series=\"prime\")\n",
    "\n",
    "print(f\"Required list sequence\\n{list_sequence_number}\")\n"
   ]
  },
  {
   "cell_type": "code",
   "execution_count": null,
   "id": "1491e034-49ec-4e09-988d-faf8bb9a594b",
   "metadata": {},
   "outputs": [],
   "source": []
  },
  {
   "cell_type": "markdown",
   "id": "48a3e245-69d3-4365-88d8-562d74fcba5f",
   "metadata": {},
   "source": [
    "### <i> Problem 07: RESEARCH ON STRING </i>"
   ]
  },
  {
   "cell_type": "code",
   "execution_count": 2,
   "id": "e7749f43-e5db-46a3-b679-dfb2f1f16885",
   "metadata": {},
   "outputs": [
    {
     "name": "stdout",
     "output_type": "stream",
     "text": [
      "String Methods and Properties ['__add__', '__class__', '__contains__', '__delattr__', '__dir__', '__doc__', '__eq__', '__format__', '__ge__', '__getattribute__', '__getitem__', '__getnewargs__', '__getstate__', '__gt__', '__hash__', '__init__', '__init_subclass__', '__iter__', '__le__', '__len__', '__lt__', '__mod__', '__mul__', '__ne__', '__new__', '__reduce__', '__reduce_ex__', '__repr__', '__rmod__', '__rmul__', '__setattr__', '__sizeof__', '__str__', '__subclasshook__', 'capitalize', 'casefold', 'center', 'count', 'encode', 'endswith', 'expandtabs', 'find', 'format', 'format_map', 'index', 'isalnum', 'isalpha', 'isascii', 'isdecimal', 'isdigit', 'isidentifier', 'islower', 'isnumeric', 'isprintable', 'isspace', 'istitle', 'isupper', 'join', 'ljust', 'lower', 'lstrip', 'maketrans', 'partition', 'removeprefix', 'removesuffix', 'replace', 'rfind', 'rindex', 'rjust', 'rpartition', 'rsplit', 'rstrip', 'split', 'splitlines', 'startswith', 'strip', 'swapcase', 'title', 'translate', 'upper', 'zfill']\n"
     ]
    }
   ],
   "source": [
    "#Research on methods of strings\n",
    "string = \"zakir rashid\"\n",
    "print(f\"String Methods and Properties {dir(string)}\")"
   ]
  },
  {
   "cell_type": "code",
   "execution_count": null,
   "id": "89e51ba4-bb19-4403-ae55-fd31e57f6b0b",
   "metadata": {},
   "outputs": [],
   "source": []
  },
  {
   "cell_type": "markdown",
   "id": "8d62d29f-a6b3-46cf-bf82-c850ac51ccbc",
   "metadata": {},
   "source": [
    "#### <li> Method 01: Capitalize </li>"
   ]
  },
  {
   "cell_type": "code",
   "execution_count": 3,
   "id": "dbc8fef9-9cb8-4a50-94db-0ac387d9c969",
   "metadata": {},
   "outputs": [
    {
     "name": "stdout",
     "output_type": "stream",
     "text": [
      "Captilized string: Zakir rashid\n"
     ]
    }
   ],
   "source": [
    "#Capitalize method\n",
    "\"\"\"\n",
    "This method will help us to capitalize the first character of the string\n",
    "\n",
    "Arg:\n",
    "This method doen't take any argument\n",
    "\n",
    "Return:\n",
    "This 'll return a new string (capitalize string)\n",
    "\"\"\"\n",
    "new_string = string.capitalize()\n",
    "print(f\"Captilized string: {new_string}\")"
   ]
  },
  {
   "cell_type": "code",
   "execution_count": null,
   "id": "33396ed7-45b1-4273-8ffb-b1f310077798",
   "metadata": {},
   "outputs": [],
   "source": []
  },
  {
   "cell_type": "markdown",
   "id": "4b735979-a8a4-4aae-af53-d566f1f9d8b9",
   "metadata": {},
   "source": [
    "#### <li> Method 02: Casefold </li>"
   ]
  },
  {
   "cell_type": "code",
   "execution_count": 4,
   "id": "5b11c090-b950-4ccf-a48d-cbb16d969841",
   "metadata": {},
   "outputs": [
    {
     "name": "stdout",
     "output_type": "stream",
     "text": [
      "Casefolded string: zakir rashid\n"
     ]
    }
   ],
   "source": [
    "#Casefold method\n",
    "\"\"\"\n",
    "This method will help us to convert a string into lower case string.\n",
    "This is same as lower(), but the only difference is that casefold is more\n",
    "aggressive, that's it has the additional capability to convert unicode characters into\n",
    "lower case, which lower() method can't do\n",
    "\n",
    "Arg:\n",
    "This method doen't take any argument\n",
    "\n",
    "Return:\n",
    "This 'll return a new string (casefolded  string)\n",
    "\"\"\"\n",
    "new_string = string.casefold()\n",
    "print(f\"Casefolded string: {new_string}\")\n"
   ]
  },
  {
   "cell_type": "code",
   "execution_count": null,
   "id": "adbb89e1-b2ea-4ff3-8049-5958aaea00ce",
   "metadata": {},
   "outputs": [],
   "source": []
  },
  {
   "cell_type": "markdown",
   "id": "7cffebbb-6686-47ae-b642-7fe58526637e",
   "metadata": {},
   "source": [
    "#### <li> Method 03: Center </li>"
   ]
  },
  {
   "cell_type": "code",
   "execution_count": 5,
   "id": "d7f6bf49-c478-4538-b208-d1637b7de726",
   "metadata": {},
   "outputs": [
    {
     "name": "stdout",
     "output_type": "stream",
     "text": [
      "Centered string: ~~~~~~~~~zakir rashid~~~~~~~~~\n"
     ]
    }
   ],
   "source": [
    "#center method\n",
    "\"\"\"\n",
    "This method will help us to center a string on console. It uses\n",
    "the given width and assigns width to the string required to it.\n",
    "And the remaning width is equially distributed on left and right side,\n",
    "by default empty space is not filled with anything\n",
    "\n",
    "Args:\n",
    "width(int): Integer width\n",
    "fillerchar(str): Used to fill the remaing space\n",
    "\n",
    "Return:\n",
    "This 'll return a new string (centered  string)\n",
    "\"\"\"\n",
    "new_string = string.center(30, \"~\")\n",
    "print(f\"Centered string: {new_string}\")\n"
   ]
  },
  {
   "cell_type": "code",
   "execution_count": null,
   "id": "487340f9-fe36-4d46-a55d-f3f9f3630bab",
   "metadata": {},
   "outputs": [],
   "source": []
  },
  {
   "cell_type": "markdown",
   "id": "262bf324-1b5f-4496-9d9f-24e464b17a6b",
   "metadata": {},
   "source": [
    "#### <li> Method 04: Count </li>"
   ]
  },
  {
   "cell_type": "code",
   "execution_count": 6,
   "id": "a9ee64fa-3259-4adb-999d-e52773e2672b",
   "metadata": {},
   "outputs": [
    {
     "name": "stdout",
     "output_type": "stream",
     "text": [
      "Centered string: ~~~~~~~~~zakir rashid~~~~~~~~~\n"
     ]
    }
   ],
   "source": [
    "#count method\n",
    "\"\"\"\n",
    "This method will help us to center a string on console. It uses\n",
    "the given width and assigns width to the string required to it.\n",
    "And the remaning width is equially distributed on left and right side,\n",
    "by default empty space is not filled with anything\n",
    "\n",
    "Args:\n",
    "width(int): Integer width\n",
    "fillerchar(str): Used to fill the remaing space\n",
    "\n",
    "Return:\n",
    "This 'll return a new string (centered  string)\n",
    "\"\"\"\n",
    "new_string = string.center(30, \"~\")\n",
    "print(f\"Centered string: {new_string}\")\n"
   ]
  },
  {
   "cell_type": "code",
   "execution_count": null,
   "id": "c1544fcd-240b-4e45-a89c-ad14a7354ad3",
   "metadata": {},
   "outputs": [],
   "source": []
  },
  {
   "cell_type": "markdown",
   "id": "07344d48-5282-4d97-b4ca-21fefefef9d9",
   "metadata": {},
   "source": [
    "### <li> Method 05: Endwith </li>"
   ]
  },
  {
   "cell_type": "code",
   "execution_count": 11,
   "id": "e30d40a5-3778-4fb1-9178-060cb5f147c5",
   "metadata": {},
   "outputs": [
    {
     "name": "stdout",
     "output_type": "stream",
     "text": [
      "The strings zakir rashid ends with given suffix 'id'\n"
     ]
    }
   ],
   "source": [
    "\"\"\"\n",
    "This method checks whether a strings end with a given suffix or not.\n",
    "If it ends with a given suffix, then it returns True else False\n",
    "\n",
    "Args:\n",
    "suffix(str): Input string\n",
    "\n",
    "Return:\n",
    "True or False\n",
    "\"\"\"\n",
    "\n",
    "suffix = \"id\"\n",
    "yes_no = string.endswith(suffix)\n",
    "\n",
    "if yes_no:\n",
    "    print(f\"The strings {string} ends with given suffix '{suffix}'\")\n",
    "else:\n",
    "    print(f\"The strings {string} DOES NOT ends with given suffix '{suffix}'\")\n",
    "    \n",
    "    \n"
   ]
  },
  {
   "cell_type": "code",
   "execution_count": null,
   "id": "95d2f2d5-0efb-4b61-ac92-328097a60aac",
   "metadata": {},
   "outputs": [],
   "source": []
  },
  {
   "cell_type": "markdown",
   "id": "2a516fd3-98c8-44a5-bec4-0bb8a7b00b13",
   "metadata": {},
   "source": [
    "### <li> Method 06: Find </li>"
   ]
  },
  {
   "cell_type": "code",
   "execution_count": null,
   "id": "abf61f82-6efd-4085-821c-08b2954dafd2",
   "metadata": {},
   "outputs": [],
   "source": [
    "\"\"\"\n",
    "This method is used to find the index of the substring,\n",
    "if the substring is present it it'll return the index of the\n",
    "first character else i'll return -1\n",
    "\n",
    "Args:\n",
    "sub(str): Input sub string\n",
    "\n",
    "Return:\n",
    "index(int): if found then return index else return -1 \n",
    "\n",
    "\"\"\""
   ]
  },
  {
   "cell_type": "code",
   "execution_count": 15,
   "id": "0895d041-4450-4715-aded-58ec5f9cdbdf",
   "metadata": {},
   "outputs": [
    {
     "name": "stdout",
     "output_type": "stream",
     "text": [
      "Sub string 'ras' is present in string zakir rashid\n"
     ]
    }
   ],
   "source": [
    "sub = \"ras\"\n",
    "index = string.find(sub)\n",
    "\n",
    "if index != -1:\n",
    "    print(f\"Sub string '{sub}' is present in string {string}\")\n",
    "else:\n",
    "    print(f\"Sub string '{sub}' is NOT present in string {string}\")"
   ]
  },
  {
   "cell_type": "code",
   "execution_count": null,
   "id": "b964d519-4d30-4e2f-baf1-9613a6073802",
   "metadata": {},
   "outputs": [],
   "source": []
  },
  {
   "cell_type": "markdown",
   "id": "f59cc1fe-da60-4891-8d1a-8f68bf617856",
   "metadata": {},
   "source": [
    "### <li> Method 07: Format </li>"
   ]
  },
  {
   "cell_type": "code",
   "execution_count": null,
   "id": "2c96ffa2-aca1-4f80-ac08-d2d4964f00b0",
   "metadata": {},
   "outputs": [],
   "source": [
    "\"\"\"\n",
    "This method is used to format the string, by replacing\n",
    "the curcly braces with the actual content based on whether we \n",
    "are passing variable number of positional arguments, or key word\n",
    "arguments.\n",
    "\n",
    "Args:\n",
    "str(*args, **kwargs)\n",
    "\n",
    "Return:\n",
    "str(string): Formatted string\n",
    "\n",
    "\"\"\""
   ]
  },
  {
   "cell_type": "code",
   "execution_count": 22,
   "id": "9322df25-597a-4e7d-b0dd-c100d88be5b8",
   "metadata": {},
   "outputs": [
    {
     "name": "stdout",
     "output_type": "stream",
     "text": [
      "Formatted string is:  Hello Alien's of  Milky way Glaxy\n",
      "Formatted string is:  Hello Alien's of  Milky way Glaxy\n"
     ]
    }
   ],
   "source": [
    "#String formatting using only positional arguments\n",
    "string = \"Hello {} of  Milky way {}\"\n",
    "print(\"Formatted string is: \", string.format(\"Alien's\", \"Glaxy\"))\n",
    "\n",
    "#String formatting using only keyword arguments\n",
    "aliens = \"Alien's\"\n",
    "glaxy = \"Glaxy\"\n",
    "string = \"Hello {aliens} of  Milky way {glaxy}\"\n",
    "print(\"Formatted string is: \", string.format(aliens=aliens, glaxy=glaxy))\n"
   ]
  },
  {
   "cell_type": "code",
   "execution_count": null,
   "id": "e931128a-6d65-4814-93dd-595483bcc6d0",
   "metadata": {},
   "outputs": [],
   "source": []
  },
  {
   "cell_type": "markdown",
   "id": "42fa863c-9780-40aa-a218-44e8243fe825",
   "metadata": {},
   "source": [
    "### <li> Method 08: Split </li>"
   ]
  },
  {
   "cell_type": "code",
   "execution_count": null,
   "id": "c232c4df-e97c-4934-a8b2-5a84216f3627",
   "metadata": {},
   "outputs": [],
   "source": [
    "\"\"\"\n",
    "This method splits the string based on given separator,\n",
    "if no separator is given then by default empy sapce is taken\n",
    "as a separator\n",
    "\n",
    "Args:\n",
    "str(sep): sep is the given separator\n",
    "maxsplit(int): Signifies maximum words that needs to be split\n",
    "\n",
    "Return:\n",
    "str(list): Retuns list of string\n",
    "\"\"\"\n",
    "\n"
   ]
  },
  {
   "cell_type": "code",
   "execution_count": 30,
   "id": "d946a5ab-d282-4a05-8b42-076234ca3bd8",
   "metadata": {},
   "outputs": [
    {
     "name": "stdout",
     "output_type": "stream",
     "text": [
      "Splitted string is: ['Zack', 'is', 'about', 'to reach home Zack']\n"
     ]
    }
   ],
   "source": [
    "string = \"Zack is about to reach home Zack\"\n",
    "spl_string = string.split(sep=\" \", maxsplit=3)\n",
    "print(f\"Splitted string is: {spl_string}\")"
   ]
  },
  {
   "cell_type": "code",
   "execution_count": null,
   "id": "fd09a9ae-cf50-4b85-947f-b945612e505b",
   "metadata": {},
   "outputs": [],
   "source": []
  },
  {
   "cell_type": "markdown",
   "id": "f4997e38-fe0c-4ae7-8c42-6649d6a2a5e6",
   "metadata": {},
   "source": [
    "### <li> Method 09: Replace </li>"
   ]
  },
  {
   "cell_type": "code",
   "execution_count": null,
   "id": "50383d0d-7558-4d07-b71b-ce355694cd63",
   "metadata": {},
   "outputs": [],
   "source": [
    "\"\"\"\n",
    "This method is used to replace a 'word' with another 'word'\n",
    "and returns a new string\n",
    "\n",
    "Args:\n",
    "str(old): old word that needs to be replaced\n",
    "str(new): new word which replaces old word\n",
    "int(count): replace 'count' number of occurance\n",
    "\n",
    "Return:\n",
    "str(new_str): retuns new string\n",
    "\"\"\""
   ]
  },
  {
   "cell_type": "code",
   "execution_count": 36,
   "id": "5d863d21-7e75-480c-83e0-7d1d3e3cb2e1",
   "metadata": {},
   "outputs": [
    {
     "name": "stdout",
     "output_type": "stream",
     "text": [
      "New string is:  xack is about to reach home xack\n"
     ]
    }
   ],
   "source": [
    "old_string =  \"Zack is about to reach home Zack\"\n",
    "new_string = old_string.replace(\"Zack\", \"xack\")\n",
    "print(f\"New string is:  {new_string}\")\n"
   ]
  },
  {
   "cell_type": "code",
   "execution_count": null,
   "id": "027cb5c1-9946-46d4-8884-702f90a4e480",
   "metadata": {},
   "outputs": [],
   "source": []
  },
  {
   "cell_type": "markdown",
   "id": "23347e96-79e2-4746-8580-003499fb6f6a",
   "metadata": {},
   "source": [
    "### <li> Method 10: Strip </li>"
   ]
  },
  {
   "cell_type": "code",
   "execution_count": null,
   "id": "227670d4-4e72-4392-a9b2-05fc9f5beef9",
   "metadata": {},
   "outputs": [],
   "source": [
    "\"\"\"\n",
    "This method is used to remove the same starting and ending\n",
    "of characters if they are same.\n",
    "It quite often used to remove the white spaces before and after\n",
    "the string\n",
    "\n",
    "Args:\n",
    "str(chars): Optional argument\n",
    "\n",
    "Return:\n",
    "str(new_string): Returns a new string\n",
    "\"\"\""
   ]
  },
  {
   "cell_type": "code",
   "execution_count": 56,
   "id": "24cfddc0-d735-4c72-9176-4bbcccf99ee8",
   "metadata": {},
   "outputs": [
    {
     "name": "stdout",
     "output_type": "stream",
     "text": [
      "String before strip:     Zack is coding!!!   \n",
      "Stripped string is: Zack is coding!!!\n"
     ]
    }
   ],
   "source": [
    "string = \"    Zack is coding!!!   \"\n",
    "print(f\"String before strip: {string}\")\n",
    "print(f\"Stripped string is: {string.strip()}\")"
   ]
  },
  {
   "cell_type": "code",
   "execution_count": null,
   "id": "aceaa029-fd5b-4ee7-9821-bf953ac9c9d4",
   "metadata": {},
   "outputs": [],
   "source": []
  },
  {
   "cell_type": "markdown",
   "id": "82de9d18-d907-4550-9896-bff987cf6872",
   "metadata": {},
   "source": [
    "### <i> Problem 8: MANIPULATING THE TYPE </i>"
   ]
  },
  {
   "cell_type": "code",
   "execution_count": 47,
   "id": "7b65dfd2-de0d-402f-91af-9040332e40c7",
   "metadata": {},
   "outputs": [],
   "source": [
    "import math\n",
    "\n",
    "#Generate fibonacci sequence\n",
    "def fibonacci_sequence(n):\n",
    "    \"\"\"\n",
    "    Generate a fibonacci sequence of length n\n",
    "    (0 1 1 2 3 5 8 13 21 ... )\n",
    "    \n",
    "    Args:\n",
    "    n(int): length of fibonaaci squence to generate\n",
    "\n",
    "    Returns:\n",
    "    list: Fibonacci sequence of length n\n",
    "    \"\"\"\n",
    "    fib_seq_list = []\n",
    "    num1, num2 = 0, 1\n",
    "    #Generate the fibonaaci squence\n",
    "    for i in range(n):\n",
    "        num3 = num1 + num2\n",
    "        num1, num2 = num2, num3\n",
    "\n",
    "        #Append the generated number to the list\n",
    "        fib_seq_list.append(num1)\n",
    "        \n",
    "    return fib_seq_list\n",
    "\n",
    "\n",
    "#Generate multiples of given number   \n",
    "def multiples_of_series(series, bound):\n",
    "    \"\"\"\n",
    "    Generate multiples of series\n",
    "    \n",
    "    Args:\n",
    "    int(series): series is an integer whome which we have to calculate multiples\n",
    "    int(bound): calculate multiples upto certain range, given by bound\n",
    "\n",
    "    Returns:\n",
    "    list: multiples of series\n",
    "    \"\"\"\n",
    "    #Compute multiples of series\n",
    "    multiples = [x * series for x in range(1, bound + 1)]\n",
    "    return multiples\n",
    "\n",
    "\n",
    "    \n",
    "#Generate frist B odd integers\n",
    "def ist_b_odd_integers(bound):\n",
    "    odd_integers = [x for x in range(1, 2 * bound + 1) if x % 2 != 0]\n",
    "    return odd_integers\n",
    "\n",
    "\n",
    "\n",
    "#Generate first B prime numbers\n",
    "def ist_b_prime_numbers(bound):\n",
    "    #Store prime numbers\n",
    "    prime_numbers = [2]\n",
    "    #Check from number 3, and move onwards\n",
    "    num = 3\n",
    "    #Keep track of count of prime numbers\n",
    "    count = 0\n",
    "    \n",
    "    while True:\n",
    "        #Assume that the number is prime by setting (flag = True)\n",
    "        flag = True\n",
    "        \n",
    "        #If count == bound, then our requirement is fullfilled, hence break        \n",
    "        if count == bound:\n",
    "            break\n",
    "        \n",
    "        #Check weather 'num' is a prime number or not if prime, then append to prime_number list\n",
    "        for i in range(2, math.ceil(math.sqrt(num)) + 1):\n",
    "            if num % i == 0:\n",
    "                flag = False\n",
    "                break\n",
    "        if flag:\n",
    "            count += 1\n",
    "            prime_numbers.append(num)\n",
    "\n",
    "        #Increment number by 1\n",
    "        num += 1\n",
    "\n",
    "    return prime_numbers\n",
    "            \n",
    "\n",
    "#Check for series type\n",
    "def series_type(bound, series):\n",
    "    if series == \"fibonacci\":\n",
    "        return fibonacci_sequence(bound)\n",
    "    elif series == \"8\":\n",
    "        return multiples_of_series(int(series), bound)\n",
    "    elif series == \"odd\":\n",
    "        return ist_b_odd_integers(bound)\n",
    "    elif series == \"prime\":\n",
    "        return ist_b_prime_numbers(bound)\n",
    "\n",
    "\n",
    "#Convert numbers into letters\n",
    "def number_to_letters(number_list):\n",
    "    #Number to letter mapping\n",
    "    mapping = {i: chr(i + 65) for i in range(0, 26)}\n",
    "\n",
    "    return [mapping[num % 26] for num in number_list]\n",
    "    \n",
    "\n",
    "\n",
    "#Convert decimal numbers to octal numbers\n",
    "def decimal_to_octal(number_list):\n",
    "    octal_number_list = []\n",
    "\n",
    "    #Convert decimal into octal\n",
    "    for dec in number_list:\n",
    "        rev_octal_number = 0\n",
    "\n",
    "        #This loops converts decimal into octal but gives reverse order of octal number\n",
    "        #E.g dec(115) = oct(163), but this loops gives 361\n",
    "        while dec >= 1:\n",
    "            rem = dec % 8\n",
    "            rev_octal_number = rev_octal_number * 10 + rem\n",
    "            dec //= 8\n",
    "            \n",
    "\n",
    "        #Reverse the octal number\n",
    "        octal_number = 0\n",
    "        while rev_octal_number >= 1:\n",
    "            rem = rev_octal_number % 10\n",
    "            octal_number = octal_number * 10 + rem\n",
    "            rev_octal_number //= 10\n",
    "\n",
    "        octal_number_list.append(octal_number)   \n",
    "\n",
    "    return octal_number_list\n",
    "\n",
    "\n",
    "\n",
    "#Hexa mapping function\n",
    "def hexa_mapping(rem):\n",
    "    #Create a mapping b/w integers from 10 to 15, with their correspoind character values\n",
    "    mapping = {i: chr(55 + i) for i in range(10, 16)}\n",
    "    return mapping[rem]\n",
    "\n",
    "    \n",
    "\n",
    "\n",
    "#Convert decimal numbers to hexa-decimal numbers\n",
    "def decimal_to_hexa(number_list):\n",
    "    hexa_number_list = []\n",
    "\n",
    "    #Convert decimal into hexa\n",
    "    for dec in number_list:\n",
    "        rev_hexa_number = \"\"\n",
    "\n",
    "        #This loops converts decimal into hexa-decimal but gives reverse order of hexa-decimal number\n",
    "        #E.g dec(115) = hexa(73), but this loops gives 37\n",
    "        while dec >= 1:\n",
    "            rem = dec % 16\n",
    "            if rem in [10, 11, 12, 13, 14, 15]:\n",
    "                rem = hexa_mapping(rem)\n",
    "            rev_hexa_number += str(rem)\n",
    "            dec //= 16\n",
    "            \n",
    "\n",
    "        #Reverse the hexa-decmial number\n",
    "        hexa_number = rev_hexa_number[::-1]\n",
    "        hexa_number_list.append(hexa_number)   \n",
    "\n",
    "    return hexa_number_list\n",
    "\n",
    "\n",
    "#Convert decimal number into binary\n",
    "def dec_to_bin(nums):\n",
    "    bin_number_list = []\n",
    "\n",
    "    #Do conversion\n",
    "    for num in nums:\n",
    "        bin = \"\"   \n",
    "        while num > 0:\n",
    "            rem = num % 2\n",
    "            num //= 2\n",
    "            bin += str(rem)\n",
    "        #Do reverse of binary number and append it to the list\n",
    "        bin_number_list.append(bin[::-1])\n",
    "\n",
    "    return bin_number_list\n",
    "        \n",
    "\n",
    "list_sequence_number = []\n",
    "#Return list of number sequence\n",
    "def printing_series(bound, series, otype=None):\n",
    "    global list_sequence_number\n",
    "\n",
    "    #If otype is not specified, then compute simply list sequence number\n",
    "    if otype == None:\n",
    "        list_sequence_number += series_type(bound, series)\n",
    "\n",
    "    if otype == \"letter\":\n",
    "        #Convert list sequence numbers into letters (Encoding)\n",
    "        return number_to_letters(list_sequence_number)\n",
    "    elif otype == \"oct\":\n",
    "        #Convert decmial numbers list into octal numbers\n",
    "        return decimal_to_octal(list_sequence_number)\n",
    "    elif otype == \"hex\":\n",
    "        #Convert decimal numbers list into hexa numbers\n",
    "        return decimal_to_hexa(list_sequence_number)\n",
    "    elif otype == \"bin\":\n",
    "        #Convert decimal number list into binary\n",
    "        return dec_to_bin(list_sequence_number)\n",
    "\n",
    "\n",
    "def select_otype():\n",
    "    while True:\n",
    "        print(\"Enter any of the below operation\")\n",
    "        print(\" 👉 letter\")\n",
    "        print(\" 👉 oct\")\n",
    "        print(\" 👉 hex\")\n",
    "        print(\" 👉 bin\")\n",
    "\n",
    "        return input(\"Enter operation: \")\n",
    "\n",
    "    "
   ]
  },
  {
   "cell_type": "code",
   "execution_count": 48,
   "id": "b6fbfa11-d4f9-4112-a383-f7003d1b46a5",
   "metadata": {},
   "outputs": [
    {
     "name": "stdout",
     "output_type": "stream",
     "text": [
      "List Number Sequence\n",
      "[1, 1, 2, 3, 5, 8, 13, 21, 34, 55, 8, 16, 24, 32, 40, 48, 56, 64, 72, 80, 1, 3, 5, 7, 9, 11, 13, 15, 17, 19, 2, 3, 5, 7, 11, 13, 17, 19, 23, 29, 31]\n",
      "Enter any of the below operation\n",
      " 👉 letter\n",
      " 👉 oct\n",
      " 👉 hex\n",
      " 👉 bin\n"
     ]
    },
    {
     "name": "stdin",
     "output_type": "stream",
     "text": [
      "Enter operation:  hex\n"
     ]
    },
    {
     "name": "stdout",
     "output_type": "stream",
     "text": [
      "Encoding of ABOVE 'NUMBER' list is\n",
      " ['1', '1', '2', '3', '5', '8', 'D', '15', '22', '37', '8', '10', '18', '20', '28', '30', '38', '40', '48', '50', '1', '3', '5', '7', '9', 'B', 'D', 'F', '11', '13', '2', '3', '5', '7', 'B', 'D', '11', '13', '17', '1D', '1F']\n"
     ]
    }
   ],
   "source": [
    "#Test logic\n",
    "bound = 10\n",
    "#Compute list number sequence\n",
    "printing_series(bound, series=\"fibonacci\")\n",
    "printing_series(bound, series=\"8\")\n",
    "printing_series(bound, series=\"odd\")\n",
    "printing_series(bound, series=\"prime\")\n",
    "\n",
    "print(f\"List Number Sequence\\n{list_sequence_number}\")\n",
    "\n",
    "#Compute conversion of number list (endcoding, oct, hex, bin)\n",
    "conversion_list = printing_series(bound, series=\"\", otype=select_otype())\n",
    "print(f\"Encoding of ABOVE 'NUMBER' list is\\n {conversion_list}\")\n"
   ]
  },
  {
   "cell_type": "code",
   "execution_count": null,
   "id": "6992d2f3-5678-44e2-8d80-6f0a2a25b18f",
   "metadata": {},
   "outputs": [],
   "source": []
  },
  {
   "cell_type": "markdown",
   "id": "5371aca9-24bf-43d8-b15e-f59d5d30eb7c",
   "metadata": {},
   "source": [
    "### <i> Problem 09: TUPLES AND DICTIONARIES </i>"
   ]
  },
  {
   "cell_type": "code",
   "execution_count": 129,
   "id": "d37d8ce8-bb07-46b0-84be-76de92e84930",
   "metadata": {},
   "outputs": [
    {
     "name": "stdout",
     "output_type": "stream",
     "text": [
      "['__add__', '__class__', '__class_getitem__', '__contains__', '__delattr__', '__dir__', '__doc__', '__eq__', '__format__', '__ge__', '__getattribute__', '__getitem__', '__getnewargs__', '__getstate__', '__gt__', '__hash__', '__init__', '__init_subclass__', '__iter__', '__le__', '__len__', '__lt__', '__mul__', '__ne__', '__new__', '__reduce__', '__reduce_ex__', '__repr__', '__rmul__', '__setattr__', '__sizeof__', '__str__', '__subclasshook__', 'count', 'index']\n"
     ]
    }
   ],
   "source": [
    "#Research on tuples\n",
    "my_tuple = (1, 2, 3, 4, 5, 6, 9)\n",
    "print(dir(my_tuple))\n"
   ]
  },
  {
   "cell_type": "code",
   "execution_count": null,
   "id": "89c8bde8-c892-45d8-aa0a-cd4a64701567",
   "metadata": {},
   "outputs": [],
   "source": []
  },
  {
   "cell_type": "markdown",
   "id": "de41a327-f128-4540-812d-7ed105a2883c",
   "metadata": {},
   "source": [
    "### <li> Method 01: Add </li>"
   ]
  },
  {
   "cell_type": "code",
   "execution_count": 142,
   "id": "1cb0da91-deff-4ae7-9e29-58c14143fd3e",
   "metadata": {},
   "outputs": [
    {
     "name": "stdout",
     "output_type": "stream",
     "text": [
      "New tuple: ('Zakir', 'Sohai', 'Musaib', 22, 23, 232)\n"
     ]
    }
   ],
   "source": [
    "\"\"\"\n",
    "This method is used to add the elements of two or more tuples,\n",
    "this method is internally invoked when we call\n",
    "+ operator b/w tuples\n",
    "\n",
    "Note: types are immutable, ordered and can contain \n",
    "duplicate elements\n",
    "\"\"\"\n",
    "names = (\"Zakir\", \"Sohai\", \"Musaib\")\n",
    "ages = (22, 23, 232)\n",
    "\n",
    "#Add two tuples \n",
    "names_ages = names + ages\n",
    "print(f\"New tuple: {names_ages}\")"
   ]
  },
  {
   "cell_type": "code",
   "execution_count": null,
   "id": "44d3d615-ecc4-4c4c-8455-3bdd78d45380",
   "metadata": {},
   "outputs": [],
   "source": []
  },
  {
   "cell_type": "markdown",
   "id": "aff2456c-7849-46df-ad36-90f7f6e897db",
   "metadata": {},
   "source": [
    "### <li> Method 02: Contains </li>"
   ]
  },
  {
   "cell_type": "code",
   "execution_count": 146,
   "id": "7d32fed2-b8ff-4f5c-9039-cd471a173f9d",
   "metadata": {},
   "outputs": [
    {
     "name": "stdout",
     "output_type": "stream",
     "text": [
      "Yes 'Zack' belongs to ('Zack', 'Rashid', 'Mir')\n"
     ]
    }
   ],
   "source": [
    "\"\"\"\n",
    "This method is used to know whether an element belongs\n",
    "to the tuple or not. This methods gets invoked when we\n",
    "place in operator b/w an element and tuple\n",
    "\"\"\"\n",
    "\n",
    "my_tuple = (\"Zack\", \"Rashid\", \"Mir\")\n",
    "\n",
    "if \"Zack\" in my_tuple:\n",
    "    print(f\"Yes 'Zack' belongs to {my_tuple}\")\n",
    "else:\n",
    "    print(f\"No 'Zack' DOES NOT belongs to {my_tuple}\")\n"
   ]
  },
  {
   "cell_type": "code",
   "execution_count": null,
   "id": "4048552e-7fe4-4d7e-afd0-8f37aac5af0d",
   "metadata": {},
   "outputs": [],
   "source": []
  },
  {
   "cell_type": "markdown",
   "id": "8a728ea5-f4ad-4d9e-98db-079e9cbf70cc",
   "metadata": {},
   "source": [
    "### <li> Method 03: Eq </li>"
   ]
  },
  {
   "cell_type": "code",
   "execution_count": 147,
   "id": "6b6bc4ec-f4e5-4136-9733-477bd56d61ff",
   "metadata": {},
   "outputs": [
    {
     "name": "stdout",
     "output_type": "stream",
     "text": [
      "The two tuples are equal\n"
     ]
    }
   ],
   "source": [
    "\"\"\"\n",
    "This method is used to check whether the two tuples\n",
    "are equal or not, this method gets invoked when it encounters\n",
    "== in b/w tuples\n",
    "\"\"\"\n",
    "\n",
    "tuple1 = ((1, 2, 2), (1, 19, 2))\n",
    "tuple2 = ((1, 2, 2), (1, 19, 2))\n",
    "\n",
    "if tuple1 == tuple2:\n",
    "    print(f\"The two tuples are equal\")\n",
    "else:\n",
    "    print(f\"The two tuples are NOT equal\")\n"
   ]
  },
  {
   "cell_type": "code",
   "execution_count": null,
   "id": "af354ed3-f52b-4917-a193-e805e9b1c310",
   "metadata": {},
   "outputs": [],
   "source": []
  },
  {
   "cell_type": "markdown",
   "id": "447a61f1-35e7-4516-b39a-dc4c4541fdb1",
   "metadata": {},
   "source": [
    "### <li> Method 04: Getitem </li>"
   ]
  },
  {
   "cell_type": "code",
   "execution_count": 148,
   "id": "5d59a5e0-f67d-4afc-a473-3cd69c514024",
   "metadata": {},
   "outputs": [
    {
     "name": "stdout",
     "output_type": "stream",
     "text": [
      "Element at '[0][1]' location is: 2\n"
     ]
    }
   ],
   "source": [
    "\"\"\"\n",
    "This method is used to get an element from tuple.\n",
    "It gets invoked when [] are used with tuple \n",
    "\"\"\"\n",
    "tuple1 = ((1, 2, 2), (1, 19, 2))\n",
    "print(f\"Element at '[0][1]' location is: {tuple1[0][1]}\")\n"
   ]
  },
  {
   "cell_type": "code",
   "execution_count": null,
   "id": "fd9a3d01-27f2-43dd-924b-6ddace3903d4",
   "metadata": {},
   "outputs": [],
   "source": []
  },
  {
   "cell_type": "markdown",
   "id": "115eaf38-4bc7-4b3a-8796-ca5f510f8772",
   "metadata": {},
   "source": [
    "### <li> Method 05: Iter </li>"
   ]
  },
  {
   "cell_type": "code",
   "execution_count": 152,
   "id": "3119a6a7-4231-46d6-8a77-72c5ced82fe0",
   "metadata": {},
   "outputs": [
    {
     "name": "stdout",
     "output_type": "stream",
     "text": [
      "Zakir 22 Sohail 33 "
     ]
    }
   ],
   "source": [
    "#This method is used to make tuple iterable\n",
    "nums = (\"Zakir\", 22, \"Sohail\", 33)\n",
    "for num in nums:\n",
    "    print(num, end = \" \")\n"
   ]
  },
  {
   "cell_type": "code",
   "execution_count": null,
   "id": "85ee3d89-bcce-407d-9161-fbd32187ad86",
   "metadata": {},
   "outputs": [],
   "source": []
  },
  {
   "cell_type": "markdown",
   "id": "ef506474-2476-407c-84fb-52230383205f",
   "metadata": {},
   "source": [
    "### <li> Method 06: Len </li>"
   ]
  },
  {
   "cell_type": "code",
   "execution_count": 153,
   "id": "95ee12f2-997c-4e66-845c-981871234233",
   "metadata": {},
   "outputs": [
    {
     "name": "stdout",
     "output_type": "stream",
     "text": [
      "Length of above list is: 4\n"
     ]
    }
   ],
   "source": [
    "#This method is used to get the length of a list\n",
    "nums = (\"Zakir\", 22, \"Sohail\", 33)\n",
    "print(f\"Length of above list is: {len(nums)}\")"
   ]
  },
  {
   "cell_type": "code",
   "execution_count": null,
   "id": "bc81e0e8-509e-44d4-a801-158780ad5e67",
   "metadata": {},
   "outputs": [],
   "source": []
  },
  {
   "cell_type": "markdown",
   "id": "818a4d62-91bc-4d7b-9ecf-c9a16f10f48c",
   "metadata": {},
   "source": [
    "### <li> Method 07: Repr </li>"
   ]
  },
  {
   "cell_type": "code",
   "execution_count": 157,
   "id": "65d655c0-7681-4152-8392-6032943c68f4",
   "metadata": {},
   "outputs": [
    {
     "name": "stdout",
     "output_type": "stream",
     "text": [
      "String representation of above tuple is: (1, 2, 3, 4)\n",
      "Class of 'str_tuple' is: <class 'str'>\n"
     ]
    }
   ],
   "source": [
    "#This method is used to get the string representation of tuple\n",
    "my_tuple = (1, 2, 3, 4)\n",
    "str_tuple = repr(my_tuple)\n",
    "print(f\"String representation of above tuple is: {str_tuple}\")\n",
    "print(f\"Class of 'str_tuple' is: {type(str_tuple)}\")"
   ]
  },
  {
   "cell_type": "code",
   "execution_count": null,
   "id": "5ee873fc-5b8d-4285-96d3-7f68092ef358",
   "metadata": {},
   "outputs": [],
   "source": []
  },
  {
   "cell_type": "markdown",
   "id": "c41aea3f-736b-4184-910d-46f044c6e4f7",
   "metadata": {},
   "source": [
    "### <li> Method 08: Str </li>"
   ]
  },
  {
   "cell_type": "code",
   "execution_count": 162,
   "id": "acbbbc7c-c7f1-48ac-ad1c-dea885498221",
   "metadata": {},
   "outputs": [
    {
     "name": "stdout",
     "output_type": "stream",
     "text": [
      "String represenation of above tuple is: (1, 2, 3, 4)\n",
      "Class of 'str_tuple' is: <class 'str'>\n"
     ]
    }
   ],
   "source": [
    "#This method returns the human redable string format of tuple\n",
    "my_tuple = (1, 2, 3, 4)\n",
    "print(f\"String represenation of above tuple is: {str(my_tuple)}\")\n",
    "print(f\"Class of 'str_tuple' is: {type(str_tuple)}\")"
   ]
  },
  {
   "cell_type": "code",
   "execution_count": 161,
   "id": "1ea79ccf-dde5-4a51-ac97-5bfa23ecdae9",
   "metadata": {},
   "outputs": [
    {
     "name": "stdout",
     "output_type": "stream",
     "text": [
      "(1, 2, 3, 4)\n"
     ]
    }
   ],
   "source": [
    "print(str(my_tuple))"
   ]
  },
  {
   "cell_type": "code",
   "execution_count": null,
   "id": "9831a9b6-8923-4788-b8e4-845a13063c15",
   "metadata": {},
   "outputs": [],
   "source": []
  },
  {
   "cell_type": "markdown",
   "id": "9ac0dc21-140b-4dc0-9e95-31d7936db1bd",
   "metadata": {},
   "source": [
    "### <li> Method 09: Mul </li>"
   ]
  },
  {
   "cell_type": "code",
   "execution_count": 180,
   "id": "994b49b5-dcc8-47ba-8360-3749a7fc278b",
   "metadata": {},
   "outputs": [
    {
     "name": "stdout",
     "output_type": "stream",
     "text": [
      "After multiplying by 5: [10, 11, 12, 13, 14, 10, 11, 12, 13, 14, 10, 11, 12, 13, 14, 10, 11, 12, 13, 14, 10, 11, 12, 13, 14]\n"
     ]
    }
   ],
   "source": [
    "#This method is used to increase the langth of an array\n",
    "#by integer multiple times. \n",
    "#Note: It doesn't perform arithmetic operation to the elements of an array\n",
    "\n",
    "nums = [x for x in range(10, 15, 1)]\n",
    "print(f\"After multiplying by 5: {nums * 5}\")"
   ]
  },
  {
   "cell_type": "code",
   "execution_count": null,
   "id": "15adf272-1d02-430c-a91f-414a829fa087",
   "metadata": {},
   "outputs": [],
   "source": []
  },
  {
   "cell_type": "code",
   "execution_count": null,
   "id": "805bfc11-baf5-455b-9475-6241f22ea0ba",
   "metadata": {},
   "outputs": [],
   "source": []
  },
  {
   "cell_type": "code",
   "execution_count": null,
   "id": "b1e28519-5214-4368-9a57-c2eab49480ea",
   "metadata": {},
   "outputs": [],
   "source": []
  },
  {
   "cell_type": "code",
   "execution_count": null,
   "id": "2749a9c2-c0a3-4183-b050-892a00b258e8",
   "metadata": {},
   "outputs": [],
   "source": []
  },
  {
   "cell_type": "code",
   "execution_count": null,
   "id": "b0046aac-32a2-4dd0-8de9-997a8c6b1c09",
   "metadata": {},
   "outputs": [],
   "source": []
  },
  {
   "cell_type": "code",
   "execution_count": null,
   "id": "06584583-acfc-4d8a-943d-64a145223616",
   "metadata": {},
   "outputs": [],
   "source": []
  },
  {
   "cell_type": "code",
   "execution_count": null,
   "id": "0d4f2b1f-cfe0-48e9-997b-35baec2c2625",
   "metadata": {},
   "outputs": [],
   "source": []
  },
  {
   "cell_type": "code",
   "execution_count": null,
   "id": "6cddeeb7-1261-4b73-9065-49ff9d3f0e91",
   "metadata": {},
   "outputs": [],
   "source": []
  },
  {
   "cell_type": "code",
   "execution_count": null,
   "id": "38c49237-6236-48fb-95e7-f32d6541d9ee",
   "metadata": {},
   "outputs": [],
   "source": []
  },
  {
   "cell_type": "code",
   "execution_count": null,
   "id": "2a41c90c-edcd-4e45-9db6-13215c0dd7d7",
   "metadata": {},
   "outputs": [],
   "source": []
  },
  {
   "cell_type": "code",
   "execution_count": null,
   "id": "80aab69c-b5dd-4f01-b9ee-954e5aacf6bf",
   "metadata": {},
   "outputs": [],
   "source": []
  },
  {
   "cell_type": "code",
   "execution_count": null,
   "id": "c9960bd6-d96a-45f5-a85f-dbdb03b7238c",
   "metadata": {},
   "outputs": [],
   "source": []
  },
  {
   "cell_type": "code",
   "execution_count": null,
   "id": "fd0cf87c-64a4-4697-81a8-6cd39dfdb424",
   "metadata": {},
   "outputs": [],
   "source": []
  },
  {
   "cell_type": "code",
   "execution_count": null,
   "id": "e144781b-d3ab-464e-9be8-92487866ce94",
   "metadata": {},
   "outputs": [],
   "source": []
  },
  {
   "cell_type": "code",
   "execution_count": null,
   "id": "eb40c748-5d59-4f55-a418-c17b8e2fe8fe",
   "metadata": {},
   "outputs": [],
   "source": []
  },
  {
   "cell_type": "code",
   "execution_count": null,
   "id": "d1cf5dff-c276-478e-9cef-f0a2825361fe",
   "metadata": {},
   "outputs": [],
   "source": []
  },
  {
   "cell_type": "code",
   "execution_count": null,
   "id": "94fc4794-5862-4e8c-82c7-e8259a52634d",
   "metadata": {},
   "outputs": [],
   "source": []
  },
  {
   "cell_type": "code",
   "execution_count": null,
   "id": "f2448b63-555e-485b-aefe-85228ed45132",
   "metadata": {},
   "outputs": [],
   "source": []
  },
  {
   "cell_type": "markdown",
   "id": "30a4c3d3-5b53-4a7c-85da-8aa60b8ed86b",
   "metadata": {},
   "source": [
    "### <i> Problem 10: STATISTICS </i>"
   ]
  },
  {
   "cell_type": "code",
   "execution_count": 5,
   "id": "c4935cea-8b77-49da-9702-b739689210f7",
   "metadata": {},
   "outputs": [],
   "source": [
    "import math\n",
    "\n",
    "#Compute mean\n",
    "def compute_mean(args):\n",
    "    sum = 0\n",
    "    for arg in args:\n",
    "        sum += arg\n",
    "    return sum/len(args)\n",
    "\n",
    "\n",
    "#Compute variance\n",
    "def compute_variance(args):\n",
    "    mean_value = compute_mean(args)\n",
    "    sum = 0\n",
    "    for arg in args:\n",
    "        sum += (arg - mean_value) ** 2\n",
    "\n",
    "    #Calculate variance\n",
    "    var_ = sum / len(args)\n",
    "\n",
    "    return var_\n",
    "\n",
    "\n",
    "#Compute SD\n",
    "def compute_sd(args):\n",
    "    return round(math.sqrt(compute_variance(args)), 3)\n",
    "\n",
    "\n",
    "#Compute statistics (Mean and SD)\n",
    "def statistics(*args, quantity):\n",
    "    if quantity == \"mean\":\n",
    "        return compute_mean(args)\n",
    "    elif quantity == \"sd\":\n",
    "        return compute_sd(args)\n",
    "\n",
    "def select_statistic_operation():\n",
    "    while True:\n",
    "        print(\"Enter any of the below operation\")\n",
    "        print(\" 👉 mean\")\n",
    "        print(\" 👉 sd\")\n",
    "\n",
    "        return input(\"Enter operation: \")\n"
   ]
  },
  {
   "cell_type": "code",
   "execution_count": 6,
   "id": "0fda808d-6b16-4b7c-99af-ac80f64cc408",
   "metadata": {},
   "outputs": [
    {
     "name": "stdout",
     "output_type": "stream",
     "text": [
      "Enter any of the below operation\n",
      " 👉 mean\n",
      " 👉 sd\n"
     ]
    },
    {
     "name": "stdin",
     "output_type": "stream",
     "text": [
      "Enter operation:  sd\n"
     ]
    },
    {
     "name": "stdout",
     "output_type": "stream",
     "text": [
      "Result of above statistic operation is:  1.118\n"
     ]
    }
   ],
   "source": [
    "#Test the logic\n",
    "result = statistics(1, 2, 39, 4, quantity=select_statistic_operation())\n",
    "print(f\"Result of above statistic operation is:  {result}\")"
   ]
  },
  {
   "cell_type": "code",
   "execution_count": null,
   "id": "d5fa121e-cea2-4cb5-82cf-e4bda6e2d742",
   "metadata": {},
   "outputs": [],
   "source": []
  },
  {
   "cell_type": "markdown",
   "id": "4b3577fb-0087-48a7-b78c-588ef58824c3",
   "metadata": {},
   "source": [
    "### <i> Problem 11: TRICK TO USE NESTED FUNCTIONS </i>"
   ]
  },
  {
   "cell_type": "code",
   "execution_count": 33,
   "id": "35135b2a-2a96-4dea-bd7f-1c7243e766f0",
   "metadata": {},
   "outputs": [],
   "source": [
    "#Compute sum of digits\n",
    "def sum_of_digits(num):\n",
    "    sum = 0\n",
    "    while num >= 1:\n",
    "        sum += num % 10\n",
    "        num //= 10\n",
    "\n",
    "    return sum\n",
    "\n",
    "#Function that will return indicies of elements thare are divisible by 3\n",
    "def divisible_by_3(nums):\n",
    "    #Nested function to check which element is divisibel by three\n",
    "    def is_divisible_by_3(num):\n",
    "        return sum_of_digits(num) % 3 == 0\n",
    "\n",
    "    #Store indices of those elements which are divisible by 3\n",
    "    indices = []\n",
    "    for index, num in enumerate(nums):\n",
    "        if is_divisible_by_3(num):\n",
    "            indices.append(index)\n",
    "\n",
    "    return indices\n",
    "\n",
    "\n",
    "\n",
    "#Function that'll return an array consists of any power of array elements\n",
    "def any_power(nums, pow):\n",
    "    return [num ** pow for num in nums]\n",
    "\n",
    "\n",
    "#Function that'll check for sixth power of given element 'number'\n",
    "def check_sixth_power(nums, pow, number):\n",
    "    power_arry = any_power(nums, pow)\n",
    "    \n",
    "    #Nested function will check whether sixth power of some number is present in power_arry or not\n",
    "    def is_sixth_power_present(number):\n",
    "        for num in power_arry:\n",
    "            if num == number:\n",
    "                return True\n",
    "        return False\n",
    "\n",
    "    #Return True if sixth power is present\n",
    "    if is_sixth_power_present(number):\n",
    "        return True\n",
    "    \n",
    "    return False\n",
    "\n",
    "\n",
    "def select_operation():\n",
    "    while True:\n",
    "        print(\"Enter any of the below operation\")\n",
    "        print(\" 👉 divisible\")\n",
    "        print(\" 👉 sixth-power\")\n",
    "\n",
    "        return input(\"Enter operation: \")"
   ]
  },
  {
   "cell_type": "code",
   "execution_count": 36,
   "id": "4f1651f0-71f5-41dd-a38e-e83bf58fcea2",
   "metadata": {},
   "outputs": [
    {
     "name": "stdout",
     "output_type": "stream",
     "text": [
      "Enter any of the below operation\n",
      " 👉 divisible\n",
      " 👉 sixth-power\n"
     ]
    },
    {
     "name": "stdin",
     "output_type": "stream",
     "text": [
      "Enter operation:  sixth-power\n",
      "Enter number to check it's sixth power:  0\n"
     ]
    },
    {
     "name": "stdout",
     "output_type": "stream",
     "text": [
      "Sixth power of 0 is present\n"
     ]
    }
   ],
   "source": [
    "#Test the logic\n",
    "nums = [1, 2, 9, 11, 12, 89, 7, 3, 0]\n",
    "pow = 3\n",
    "operation_selected = select_operation()\n",
    "\n",
    "if operation_selected == \"divisible\":\n",
    "    print(f\"List of indicies of elements that are divisibel by 3 \\n{divisible_by_3(nums)}\")\n",
    "elif operation_selected == \"sixth-power\":\n",
    "    num = int(input(\"Enter number to check it's sixth power: \"))\n",
    "    if check_sixth_power(nums, pow, num):\n",
    "        print(f\"Sixth power of {num} is present\")\n",
    "    else:\n",
    "        print(f\"Sixth power of {num} is NOT present\")"
   ]
  },
  {
   "cell_type": "code",
   "execution_count": null,
   "id": "36bdf41b-ca8b-45aa-886a-2ab1fed9a8fd",
   "metadata": {},
   "outputs": [],
   "source": []
  },
  {
   "cell_type": "markdown",
   "id": "5077b1bc-13c8-4d78-80d7-b5168c3b2b65",
   "metadata": {},
   "source": [
    "### <i> Problem 12: LAMBDA FUNCTIONS </i>"
   ]
  },
  {
   "cell_type": "code",
   "execution_count": 124,
   "id": "5e404858-ae2c-4489-983b-3e2d4bab7964",
   "metadata": {},
   "outputs": [],
   "source": [
    "#Function that'll check if the two arrays are same or not\n",
    "def are_same_arrays(nums1, nums2):\n",
    "    #Create an array that'll contain True on places where the elements\n",
    "    #are same otherwise False\n",
    "    boolean_result = list(map(lambda x, y: True if x == y else False, nums1, nums2))\n",
    "\n",
    "    #Now i'll check if there is any false in 'boolean_result' if it contains, then clearly\n",
    "    #it mean that the two arrays are not same\n",
    "    are_same = list(filter(lambda x: x is False, boolean_result))\n",
    "\n",
    "    #If the len(are_same) list is 0, then two arrays are same else not\n",
    "    return len(are_same) == 0\n",
    "\n",
    "#Function that'll create an array that contains same number of zeros as 'nums' does\n",
    "def same_no_of_zeros(nums):\n",
    "    return list(map(lambda x: x * 0, nums))\n"
   ]
  },
  {
   "cell_type": "code",
   "execution_count": 125,
   "id": "3ce1762b-19af-46d1-9d12-0dd128fd5d8f",
   "metadata": {},
   "outputs": [
    {
     "name": "stdout",
     "output_type": "stream",
     "text": [
      "The Given two arrays are NOT same\n"
     ]
    }
   ],
   "source": [
    "#Test the logic\n",
    "\n",
    "#Are two arrays same\n",
    "nums1 = [1, 2, 3, 99, 10, 11]\n",
    "nums2 = [10, 20, 30, 50, 110]\n",
    "\n",
    "if are_same_arrays(nums1, nums2):\n",
    "    print(f\"The Given two arrays are same\")\n",
    "else:\n",
    "    print(f\"The Given two arrays are NOT same\")\n",
    "    "
   ]
  },
  {
   "cell_type": "code",
   "execution_count": 126,
   "id": "ce2a8e57-6c97-43a0-a333-8c7c7f68a775",
   "metadata": {},
   "outputs": [
    {
     "name": "stdout",
     "output_type": "stream",
     "text": [
      "Zero array corresponding to 'nums' array is:\n",
      "[0, 0, 0, 0, 0, 0, 0, 0, 0, 0, 0, 0, 0, 0, 0, 0, 0, 0, 0, 0, 0, 0, 0, 0, 0, 0, 0, 0, 0, 0, 0, 0, 0, 0, 0, 0, 0, 0, 0, 0, 0, 0, 0, 0, 0, 0, 0, 0, 0, 0]\n"
     ]
    }
   ],
   "source": [
    "#New array that contains as many zeros as len(nums)\n",
    "nums = [x for x in range(1, 100, 2)]\n",
    "print(f\"Zero array corresponding to 'nums' array is:\\n{same_no_of_zeros(nums)}\")"
   ]
  },
  {
   "cell_type": "code",
   "execution_count": null,
   "id": "11c1cdf3-3d73-4954-9f59-8cecb3496f6a",
   "metadata": {},
   "outputs": [],
   "source": []
  },
  {
   "cell_type": "markdown",
   "id": "81481d4e-c535-45ce-bcb0-e30c0615559b",
   "metadata": {},
   "source": [
    "### <i> Problem 13: SHORT BUT STRONG </i>"
   ]
  },
  {
   "cell_type": "code",
   "execution_count": 60,
   "id": "ce758d33-d9dc-4650-9295-349ea6761f7d",
   "metadata": {},
   "outputs": [],
   "source": [
    "import math\n",
    "\n",
    "#Function that'll compute value of e^x cos(x)\n",
    "def exponential_trigonomertic(nums):\n",
    "    output = []\n",
    "    for num in nums:\n",
    "        #Compute value of e^num\n",
    "        expo = math.pow(math.e, num)\n",
    "        \n",
    "        #Compute value of cos(num)\n",
    "        tri = math.cos(num)\n",
    "\n",
    "        #Compute and store output\n",
    "        output.append(round(expo * tri, 2))\n",
    "\n",
    "    return output\n",
    "    "
   ]
  },
  {
   "cell_type": "code",
   "execution_count": 61,
   "id": "d13528c0-c2d6-46b7-97bf-f6669e4155ef",
   "metadata": {},
   "outputs": [
    {
     "name": "stdin",
     "output_type": "stream",
     "text": [
      "Enter value of n (Caution: OVERFLOW MAY OCCUR FOR LARGE VALUES OF N) 2\n"
     ]
    },
    {
     "name": "stdout",
     "output_type": "stream",
     "text": [
      "Output of above mathematical equation is: \n",
      " [1.47, -3.07, -19.88, -35.69, 42.1, 387.36, 826.75, -433.73, -7382.96, -18481.78, 264.98, 137341.28, 401466.61, 164440.76, -2483432.98, -8509867.98, -6646557.43, 43356374.68, 176466275.23, 197987213.26, -722353966.62, -3584772412.17, -5192353052.82, 11236129530.27, 71371458691.16, 126621266291.35, -155431939198.34, -1392175534284.41, -2940864222703.21, 1648404198386.96, 26572213234297.76, 65872745999137.54, -2849768551870.2, -495108291182826.1, -1433267994025914.8, -551681095606923.44, 8969996248891195.0, 3.042476082778852e+16, 2.308951821207188e+16, -1.569873936057822e+17, -6.317426126302842e+17, -6.956844353354223e+17, 2.624486576268306e+18, 1.2849586379758027e+19, 1.835174074981568e+19, -4.1040133755763876e+19, -2.5615283339427522e+20, -4.4917237756795394e+20, 5.7333415802700805e+20, 5.003064702821757e+21, 1.0459543362988033e+22, -6.244189852713876e+21, -9.562776027104658e+22, -2.34757154881554e+23, 1.7026063804988536e+22, 1.7846459405071693e+24, 5.116390814837696e+24, 1.84197539685052e+24, -3.23947025492322e+25, -1.0876626617904856e+26, -8.012243756444495e+25, 5.683293654638349e+26, 2.261432975812701e+27, 2.4432882501221865e+27, -9.532969829407443e+27, -4.605562398171429e+28, -6.484358282307205e+28, 1.4983683500278332e+29, 9.192617742248637e+29, 1.593075614478982e+30, -2.1129958177239266e+30, -1.7978013390341097e+31, -3.719535400227327e+31, 2.3583367456227127e+31, 3.4411205507392246e+32, 8.365317547423847e+32, -8.544504178484237e+31, -6.432165294458892e+33, -1.8262406169894422e+34, -6.116140341661289e+33]\n"
     ]
    }
   ],
   "source": [
    "#Test the logic\n",
    "n = int(input(\"Enter value of n (Caution: OVERFLOW MAY OCCUR FOR LARGE VALUES OF N)\"))\n",
    "#Compute 9 power n\n",
    "nine_power_n = int(math.pow(9, n))\n",
    "\n",
    "#Create a list from 1 to 9 power n\n",
    "nums = [num for num in range(1, nine_power_n)]\n",
    "\n",
    "print(f\"Output of above mathematical equation is: \\n {exponential_trigonomertic(nums)}\")"
   ]
  },
  {
   "cell_type": "code",
   "execution_count": null,
   "id": "c459bfa1-7be4-4534-9b81-cab3e864e39f",
   "metadata": {},
   "outputs": [],
   "source": []
  },
  {
   "cell_type": "markdown",
   "id": "709736eb-cec7-47a6-bf1e-5b05226860f5",
   "metadata": {},
   "source": [
    "### <i> Problem 14: REVERSE SORT </i>"
   ]
  },
  {
   "cell_type": "code",
   "execution_count": 16,
   "id": "5a7869f7-6be4-4649-b2ed-c0b04b019e4b",
   "metadata": {},
   "outputs": [],
   "source": [
    "#Performing insertion sort\n",
    "def sort_in_dec_order(nums):\n",
    "    \"\"\"\n",
    "    This function will pick the element (key) from unsorted array and 'll\n",
    "    place the element in sorted array\n",
    "\n",
    "    Args: \n",
    "    list(nums): Unsorted array\n",
    "\n",
    "    Return:\n",
    "    list(nums): sorted array\n",
    "    \"\"\"\n",
    "    \n",
    "    for i in range(1, len(nums)):\n",
    "        #Pick key element (starting from second element)\n",
    "        key = nums[i]\n",
    "        j = i - 1\n",
    "\n",
    "        while j >= 0:\n",
    "            if key > nums[j]:\n",
    "                nums[j + 1] = nums[j]\n",
    "            else:\n",
    "                break\n",
    "            j -= 1\n",
    "        #Place key element at its right position\n",
    "        nums[j + 1] = key\n",
    "\n",
    "    print(nums)"
   ]
  },
  {
   "cell_type": "code",
   "execution_count": 17,
   "id": "e22c0581-1177-4397-9664-755b8b17380d",
   "metadata": {},
   "outputs": [
    {
     "name": "stdout",
     "output_type": "stream",
     "text": [
      "[9, 2, 1, 0, -2]\n",
      "Sorted array in decreasing order is: [9, 2, 1, 0, -2]\n"
     ]
    }
   ],
   "source": [
    "#Test the logic\n",
    "nums = [1, 2, 9, -2, 0]\n",
    "sort_in_dec_order(nums)\n",
    "print(f\"Sorted array in decreasing order is: {nums}\")"
   ]
  },
  {
   "cell_type": "code",
   "execution_count": 18,
   "id": "c7dfdd3c-d99e-4093-a72c-436f0cbfbe02",
   "metadata": {},
   "outputs": [
    {
     "data": {
      "text/plain": [
       "[9, 2, 1, 0, -2]"
      ]
     },
     "execution_count": 18,
     "metadata": {},
     "output_type": "execute_result"
    }
   ],
   "source": [
    "#Sort using builtin function 'sorted'\n",
    "sorted(nums, reverse=True)"
   ]
  },
  {
   "cell_type": "code",
   "execution_count": null,
   "id": "5d7dd141-3e30-4db3-8324-85414edc7bf4",
   "metadata": {},
   "outputs": [],
   "source": []
  },
  {
   "cell_type": "markdown",
   "id": "0767b04d-16ac-4c0d-952f-171a049b50b7",
   "metadata": {},
   "source": [
    "### <i> Problem 15: UNEXPECTED RETURN </i>"
   ]
  },
  {
   "cell_type": "code",
   "execution_count": 24,
   "id": "bd5f7dfc-50f4-4170-aded-a37c6769a675",
   "metadata": {},
   "outputs": [],
   "source": [
    "#Function with abrupt return\n",
    "def first_occur_of_0(nums):\n",
    "    for index, num in enumerate(nums):\n",
    "        if num == 0:\n",
    "            return index #Abrupt return if 0 is encountered\n",
    "\n",
    "#Function with break\n",
    "def first_occur_of_0_using_break(nums):\n",
    "    for index, num in enumerate(nums):\n",
    "        if num == 0:\n",
    "            break #Break if condition is met\n",
    "    return index\n",
    "            "
   ]
  },
  {
   "cell_type": "markdown",
   "id": "71c543f0-a315-4fde-9832-8fd80c714f32",
   "metadata": {},
   "source": [
    "\n",
    "<h4 style=\"color: green\"> The difference b/w above two function is:</h4>\n",
    "\n",
    "first_occur_of_0:  This function will stop the execution the moment condition is met, \n",
    "and nothing after return statement is hit will be executed\n",
    "first_occur_of_0_using_break:  This function will also execute the statements that are\n",
    "    after the for loop, only halts execution of loop when condition is met\n"
   ]
  },
  {
   "cell_type": "code",
   "execution_count": 25,
   "id": "75d75876-5c6f-4792-a19e-38434bfcb13b",
   "metadata": {},
   "outputs": [
    {
     "name": "stdout",
     "output_type": "stream",
     "text": [
      "First occurance of '0' using abrupt return is at index: 5\n",
      "First occurance of '0' using break is at index: 5\n"
     ]
    }
   ],
   "source": [
    "#Test the logic\n",
    "nums = [1, 2, 3, 99, -4, 0, 4, 0, 2, 2, 44, 88]\n",
    "print(f\"First occurance of '0' using abrupt return is at index: {first_occur_of_0(nums)}\")\n",
    "print(f\"First occurance of '0' using break is at index: {first_occur_of_0_using_break(nums)}\")"
   ]
  },
  {
   "cell_type": "code",
   "execution_count": null,
   "id": "20c084da-e691-4476-bf77-f908bae58dba",
   "metadata": {},
   "outputs": [],
   "source": []
  },
  {
   "cell_type": "code",
   "execution_count": null,
   "id": "80168e1c-a2cf-46d0-999f-d2d393021e88",
   "metadata": {},
   "outputs": [],
   "source": []
  },
  {
   "cell_type": "code",
   "execution_count": null,
   "id": "6bdfeb47-2374-4ff5-a2f8-26a27613ae6b",
   "metadata": {},
   "outputs": [],
   "source": []
  }
 ],
 "metadata": {
  "kernelspec": {
   "display_name": "Python 3 (ipykernel)",
   "language": "python",
   "name": "python3"
  },
  "language_info": {
   "codemirror_mode": {
    "name": "ipython",
    "version": 3
   },
   "file_extension": ".py",
   "mimetype": "text/x-python",
   "name": "python",
   "nbconvert_exporter": "python",
   "pygments_lexer": "ipython3",
   "version": "3.12.2"
  }
 },
 "nbformat": 4,
 "nbformat_minor": 5
}
