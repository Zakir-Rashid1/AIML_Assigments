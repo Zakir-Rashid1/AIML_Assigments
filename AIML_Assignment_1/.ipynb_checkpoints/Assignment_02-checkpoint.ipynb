{
 "cells": [
  {
   "cell_type": "markdown",
   "id": "e13f1485-ea36-4bf1-904f-3c7db21d5eec",
   "metadata": {},
   "source": [
    "## <center style=\"color: red\"> \"Artificial Intelligence and Data Science\" </center>\n",
    "## <center style=\"color: red\"> Assignment 02</center>"
   ]
  },
  {
   "cell_type": "markdown",
   "id": "f403c3d8-51fe-4cea-bcbf-1a514fb5fbec",
   "metadata": {},
   "source": [
    "### <i>Problem 01: ARITHMETIC OPERATIONS</i>"
   ]
  },
  {
   "cell_type": "code",
   "execution_count": 1,
   "id": "7c345b53-6b53-47bc-a729-d5ee8e603ef0",
   "metadata": {},
   "outputs": [],
   "source": [
    "#Define operations using lambdas\n",
    "operations = {\n",
    "    \"add\": lambda x, y: (x + y),\n",
    "    \"subtract\": lambda x, y: (x - y),\n",
    "    \"multiply\": lambda x, y: (x * y),\n",
    "    \"divide\": lambda x, y:  round((x / y), 2)\n",
    "}\n",
    "\n",
    "#Function to perform on selected operation\n",
    "def calculator(num1, num2, operation):\n",
    "    operation_fun = operations.get(operation)\n",
    "    return operation_fun(num1, num2)\n",
    "\n",
    "#Function to select the operation\n",
    "def select_operation():\n",
    "    while True:\n",
    "        print(\"Enter any of the below operation\")\n",
    "        print(\" 👉 add\")\n",
    "        print(\" 👉 subtract\")\n",
    "        print(\" 👉 multiply\")\n",
    "        print(\" 👉 divide\")\n",
    "\n",
    "        return input(\"Enter operation: \")"
   ]
  },
  {
   "cell_type": "code",
   "execution_count": 2,
   "id": "dee5d6fd-c5d3-4ddf-b8ec-7ecb6d83be07",
   "metadata": {},
   "outputs": [
    {
     "name": "stdin",
     "output_type": "stream",
     "text": [
      "Enter ist number:  1\n",
      "Enter 2nd number:  2\n"
     ]
    },
    {
     "name": "stdout",
     "output_type": "stream",
     "text": [
      "Enter any of the below operation\n",
      " 👉 add\n",
      " 👉 subtract\n",
      " 👉 multiply\n",
      " 👉 divide\n"
     ]
    },
    {
     "name": "stdin",
     "output_type": "stream",
     "text": [
      "Enter operation:  add\n"
     ]
    },
    {
     "name": "stdout",
     "output_type": "stream",
     "text": [
      "The add of given two numbers is: 3\n"
     ]
    }
   ],
   "source": [
    "# Test the logic\n",
    "num1 = int(input(\"Enter ist number: \"))\n",
    "num2 = int(input(\"Enter 2nd number: \"))\n",
    "\n",
    "#Select operation\n",
    "operation_selected = select_operation()\n",
    "print(f\"The {operation_selected} of given two numbers is: {calculator(num1, num2, operation_selected)}\")"
   ]
  },
  {
   "cell_type": "markdown",
   "id": "a738d251-379d-4b19-91a8-f75107b54cfb",
   "metadata": {},
   "source": [
    "### <i>Problem 02: ARITHMETIC OPERATIONS CONTINUED</i>"
   ]
  },
  {
   "cell_type": "code",
   "execution_count": 3,
   "id": "492c76cd-61ad-4620-9ed4-bc67dd021c02",
   "metadata": {},
   "outputs": [],
   "source": [
    "#Function to perform addition\n",
    "def add(nums):\n",
    "    sum = 0\n",
    "    for num in nums:\n",
    "        sum += num\n",
    "    return sum\n",
    "    \n",
    "\n",
    "#Function to perform multiplication\n",
    "def multiply(nums):\n",
    "    mul = 1\n",
    "    for num in nums:\n",
    "        mul *= num\n",
    "    return round(mul, 2)\n",
    "\n",
    "\n",
    "#Define operations using functions\n",
    "operations = {\n",
    "    \"add\": add,\n",
    "    \"multiply\": multiply\n",
    "}\n",
    "\n",
    "#Function to perform on selected operation(variable len arguments)\n",
    "def calculator(operation, *nums):\n",
    "    return operations.get(operation)(nums)\n",
    "\n",
    "\n",
    "#Function to select the operation\n",
    "def select_operation():\n",
    "    while True:\n",
    "        print(\"Enter any of the below operation\")\n",
    "        print(\" 👉 add\")\n",
    "        print(\" 👉 multiply\")\n",
    "\n",
    "        return input(\"Enter operation: \")"
   ]
  },
  {
   "cell_type": "code",
   "execution_count": 4,
   "id": "ea3918ca-41b3-4317-8f76-6ea37043e22e",
   "metadata": {},
   "outputs": [
    {
     "name": "stdout",
     "output_type": "stream",
     "text": [
      "Enter any of the below operation\n",
      " 👉 add\n",
      " 👉 multiply\n"
     ]
    },
    {
     "name": "stdin",
     "output_type": "stream",
     "text": [
      "Enter operation:  add\n"
     ]
    },
    {
     "name": "stdout",
     "output_type": "stream",
     "text": [
      "Result of add operation is : 13.2\n"
     ]
    }
   ],
   "source": [
    "#Test the logic\n",
    "#Select operation\n",
    "operation_selected = select_operation()\n",
    "\n",
    "#Variable length arguments\n",
    "result = calculator(operation_selected, 1, 2, 3, 4, 3.2)\n",
    "print(f\"Result of {operation_selected} operation is : {result}\")\n"
   ]
  },
  {
   "cell_type": "code",
   "execution_count": null,
   "id": "de1ab020-c82a-4c0e-b904-a00c331b7af3",
   "metadata": {},
   "outputs": [],
   "source": []
  },
  {
   "cell_type": "code",
   "execution_count": 10,
   "id": "ad962cca-cf9c-4809-90f1-e98181bc35c0",
   "metadata": {},
   "outputs": [],
   "source": [
    "#Define operations using functions\n",
    "operations = {\n",
    "    \"add\": add,\n",
    "    \"multiply\": multiply\n",
    "}\n",
    "\n",
    "#Function to perform addition\n",
    "def add(nums):\n",
    "    sum = 0\n",
    "    for key, value in nums.items():\n",
    "        sum += value\n",
    "    return sum\n",
    "    \n",
    "#Function to perform multiplication\n",
    "def multiply(nums):\n",
    "    mul = 1\n",
    "    for key, value in nums.items():\n",
    "        mul *= value\n",
    "    return round(mul, 2)\n",
    "        \n",
    "        \n",
    "#Function to perform on selected operation(keyword variable len arguments)\n",
    "def calculator(operation, **kwargs):\n",
    "    return operations.get(operation)(kwargs)"
   ]
  },
  {
   "cell_type": "code",
   "execution_count": 11,
   "id": "cf748902-dd0c-4619-a742-986c67f2d77e",
   "metadata": {},
   "outputs": [
    {
     "name": "stdout",
     "output_type": "stream",
     "text": [
      "Enter any of the below operation\n",
      " 👉 add\n",
      " 👉 multiply\n"
     ]
    },
    {
     "name": "stdin",
     "output_type": "stream",
     "text": [
      "Enter operation:  multiply\n"
     ]
    },
    {
     "name": "stdout",
     "output_type": "stream",
     "text": [
      "Result of multiply operation is : 5400\n"
     ]
    }
   ],
   "source": [
    "#Test the logic\n",
    "#Select operation\n",
    "operation_selected = select_operation()\n",
    "\n",
    "#keyword arguments\n",
    "result = calculator(operation=operation_selected, num1=2, num2=30, num3=90)\n",
    "print(f\"Result of {operation_selected} operation is : {result}\")"
   ]
  },
  {
   "cell_type": "code",
   "execution_count": null,
   "id": "9c1ccbda-3ca4-4896-97dc-0e5ba30640fd",
   "metadata": {},
   "outputs": [],
   "source": []
  },
  {
   "cell_type": "markdown",
   "id": "5b588aac-108b-4933-9bb3-c3030bc815c4",
   "metadata": {},
   "source": [
    "### <i>Problem 03: PLAYING WITH STRINGS</i>"
   ]
  },
  {
   "cell_type": "code",
   "execution_count": 2,
   "id": "4ab2f73d-3a9d-4acd-9509-589433f07275",
   "metadata": {},
   "outputs": [],
   "source": [
    "\n",
    "#Function to select the operation\n",
    "def select_operation():\n",
    "    while True:\n",
    "        print(\"Enter any of the below operation\")\n",
    "        print(\" 👉 concatenation\")\n",
    "        print(\" 👉 1\")\n",
    "        print(\" 👉 i\")\n",
    "\n",
    "        return input(\"Enter operation: \")\n",
    "        \n",
    "\n",
    "#Function to perform string concatenation\n",
    "def concatenation(args):\n",
    "    new_string = \"\"\n",
    "    for arg in args:\n",
    "        new_string += arg\n",
    "        \n",
    "    return new_string\n",
    "\n",
    "#Function to perfrom string concatenation by taking first character of each string\n",
    "def concatenate_initials(args):\n",
    "    new_string = \"\"\n",
    "    for arg in args:\n",
    "        new_string += arg[0]\n",
    "\n",
    "    return new_string\n",
    "    \n",
    "\n",
    "#Function to perfrom concatenation by taking i character of each string\n",
    "def concatenate_ith_character(i, args):\n",
    "    #Assume that each string does not contain the ith character by setting (flag to False).\n",
    "    flag = False\n",
    "    new_string = \"\"\n",
    "    \n",
    "    for arg in args:\n",
    "        if i < len(arg):\n",
    "            new_string += arg[i]\n",
    "            flag = True\n",
    "            \n",
    "    if flag:\n",
    "        return new_string\n",
    "    else:\n",
    "        return \"No String Found🙃\"   \n",
    "\n",
    "\n",
    "#Define operations\n",
    "operations = {\n",
    "    \"concatenation\": concatenation,\n",
    "    \"1\": concatenate_initials,\n",
    "    \"i\": concatenate_ith_character\n",
    "}\n",
    "\n",
    "\n",
    "#Runner\n",
    "def runner(*args, operation, i=None):\n",
    "    if i == None:\n",
    "        return operations.get(operation)(args)\n",
    "    else:\n",
    "        return operations.get(operation)(i, args)"
   ]
  },
  {
   "cell_type": "code",
   "execution_count": 3,
   "id": "ca5f222a-05d0-46d4-8ccc-c3811c930a4e",
   "metadata": {},
   "outputs": [
    {
     "name": "stdout",
     "output_type": "stream",
     "text": [
      "Enter any of the below operation\n",
      " 👉 concatenation\n",
      " 👉 1\n",
      " 👉 i\n"
     ]
    },
    {
     "name": "stdin",
     "output_type": "stream",
     "text": [
      "Enter operation:  concatenation\n"
     ]
    },
    {
     "name": "stdout",
     "output_type": "stream",
     "text": [
      "Final Result: ZakirRashidMirKupwara\n"
     ]
    }
   ],
   "source": [
    "#Test the logic\n",
    "operation_selected = select_operation()\n",
    "\n",
    "if operation_selected in [\"concatenation\", \"1\"]:\n",
    "    result = runner(\"Zakir\", \"Rashid\", \"Mir\", \"Kupwara\", operation=operation_selected)\n",
    "else:\n",
    "    index = int(input(\"Please Enter the value of ith index: \"))\n",
    "    result = runner(\"Zakir\", \"Rashid\", \"Mir\", \"Kupwara\", operation=operation_selected, i=index)\n",
    "\n",
    "print(f\"Final Result: {result}\")\n"
   ]
  },
  {
   "cell_type": "code",
   "execution_count": null,
   "id": "4e411908-ef17-46e0-888b-392e25f644e5",
   "metadata": {},
   "outputs": [],
   "source": []
  },
  {
   "cell_type": "markdown",
   "id": "1d8b0824-65db-4862-82a4-8b191524d828",
   "metadata": {},
   "source": [
    "### <i> Problem 04: PLAYING WITH STRINGS AGAIN </i>"
   ]
  },
  {
   "cell_type": "code",
   "execution_count": 4,
   "id": "c44fbc0a-e13f-46e2-9e87-f77f26d2d831",
   "metadata": {},
   "outputs": [],
   "source": [
    "def is_present(str, sub):\n",
    "\n",
    "    #Compute lengths of each string\n",
    "    len1 = len(sub)\n",
    "    len2 = len(str)\n",
    "\n",
    "    #Set both the pointers to the first indicies\n",
    "    i = j = 0\n",
    "    while i < len1 and j < len2:\n",
    "        while j < len2:\n",
    "            if sub[i] == str[j]:\n",
    "                i += 1\n",
    "                j += 1\n",
    "                break\n",
    "            else:\n",
    "                i = 0\n",
    "                j += 1\n",
    "\n",
    "    #Check if i traverse the whole substring\n",
    "    if i == len1:\n",
    "        return True\n",
    "    else:\n",
    "        return False\n",
    "            \n",
    "    "
   ]
  },
  {
   "cell_type": "code",
   "execution_count": 5,
   "id": "cf1147e4-9ba1-4d11-af63-fad970399a78",
   "metadata": {},
   "outputs": [
    {
     "name": "stdin",
     "output_type": "stream",
     "text": [
      "Enter first string:  zakir\n",
      "Enter second string:  mir\n"
     ]
    },
    {
     "name": "stdout",
     "output_type": "stream",
     "text": [
      "String 'mir' is NOT present in 'zakir'\n"
     ]
    }
   ],
   "source": [
    "#Test the logic\n",
    "string = input(\"Enter first string: \")\n",
    "sub = input(\"Enter second string: \")\n",
    "\n",
    "if is_present(string, sub):\n",
    "    print(f\"Sub string '{sub}' is present in '{string}'\")\n",
    "else:\n",
    "    print(f\"String '{sub}' is NOT present in '{string}'\")\n",
    "    \n",
    "    "
   ]
  },
  {
   "cell_type": "code",
   "execution_count": null,
   "id": "6055fcc5-7795-444e-9f50-5c6bdaa4c8bc",
   "metadata": {},
   "outputs": [],
   "source": []
  },
  {
   "cell_type": "markdown",
   "id": "e5862e76-1e0a-4f79-87e3-4d2811205f0d",
   "metadata": {},
   "source": [
    "### <i> Problem 05: DIVIDE STRINGS </i>"
   ]
  },
  {
   "cell_type": "code",
   "execution_count": 6,
   "id": "01f47f96-b48d-4e4f-9d53-d04ca8d582e3",
   "metadata": {},
   "outputs": [],
   "source": [
    "def divide_string(str):\n",
    "    part1 = \"\"\n",
    "    part2 = \"\"\n",
    "\n",
    "    #Convert string into list of characters\n",
    "    str_list = [char for char in str]\n",
    "\n",
    "    for i in range(len(str_list)):\n",
    "        if (i % 2 == 0 or i % 3 == 0) and i % 6 != 0:\n",
    "            part1 += str_list[i]\n",
    "        else:\n",
    "            part2 += str_list[i]\n",
    "\n",
    "    return part1, part2\n",
    "    "
   ]
  },
  {
   "cell_type": "code",
   "execution_count": 7,
   "id": "282976ca-2247-47a7-b10f-f1a834c4b8ae",
   "metadata": {},
   "outputs": [
    {
     "name": "stdin",
     "output_type": "stream",
     "text": [
      "Enter the string:  aa\n"
     ]
    },
    {
     "name": "stdout",
     "output_type": "stream",
     "text": [
      "Part of string that's divisible by 2 or 3 but not both is : ''\n",
      "Rest part of string: 'aa'\n"
     ]
    }
   ],
   "source": [
    "#Test the logic\n",
    "str = input(\"Enter the string: \")\n",
    "part1, part2 = divide_string(str)\n",
    "\n",
    "print(f\"Part of string that's divisible by 2 or 3 but not both is : '{part1}'\")\n",
    "print(f\"Rest part of string: '{part2}'\")\n"
   ]
  },
  {
   "cell_type": "code",
   "execution_count": null,
   "id": "0bb57cd6-56b1-46b9-a3f2-0bfffc3e2a29",
   "metadata": {},
   "outputs": [],
   "source": []
  },
  {
   "cell_type": "markdown",
   "id": "c080e202-f824-4706-b51f-97a877e08561",
   "metadata": {},
   "source": [
    "### <i> Problem 06: PRINTING SERIES </i>"
   ]
  },
  {
   "cell_type": "code",
   "execution_count": 36,
   "id": "5edb33b3-f2f5-44d6-b97a-44d670afad88",
   "metadata": {},
   "outputs": [],
   "source": [
    "import math\n",
    "#Generate fibonacci sequence\n",
    "def fibonacci_sequence(n):\n",
    "    \"\"\"\n",
    "    Generate a fibonacci sequence of length n\n",
    "    (0 1 1 2 3 5 8 13 21 ... )\n",
    "    \n",
    "    Args:\n",
    "    n(int): length of fibonaaci squence to generate\n",
    "\n",
    "    Returns:\n",
    "    list: Fibonacci sequence of length n\n",
    "    \"\"\"\n",
    "    fib_seq_list = []\n",
    "    num1, num2 = 0, 1\n",
    "    #Generate the fibonaaci squence\n",
    "    for i in range(n):\n",
    "        num3 = num1 + num2\n",
    "        num1, num2 = num2, num3\n",
    "\n",
    "        #Append the generated number to the list\n",
    "        fib_seq_list.append(num1)\n",
    "        \n",
    "    return fib_seq_list\n",
    "\n",
    "\n",
    "#Generate multiples of given number   \n",
    "def multiples_of_series(series, bound):\n",
    "    \"\"\"\n",
    "    Generate multiples of series\n",
    "    \n",
    "    Args:\n",
    "    int(series): series is an integer whome which we have to calculate multiples\n",
    "    int(bound): calculate multiples upto certain range, given by bound\n",
    "\n",
    "    Returns:\n",
    "    list: multiples of series\n",
    "    \"\"\"\n",
    "    #Compute multiples of series\n",
    "    multiples = [x * series for x in range(1, bound + 1)]\n",
    "    return multiples\n",
    "    \n",
    "#Generate frist B odd integers\n",
    "def ist_b_odd_integers(bound):\n",
    "    odd_integers = [x for x in range(1, 2 * bound + 1) if x % 2 != 0]\n",
    "    return odd_integers\n",
    "\n",
    "#Generate first B prime numbers\n",
    "def ist_b_prime_numbers(bound):\n",
    "    #Store prime numbers\n",
    "    prime_numbers = [2]\n",
    "    #Check from number 3, and move onwards\n",
    "    num = 3\n",
    "    #Keep track of count of prime numbers\n",
    "    count = 0\n",
    "    \n",
    "    while True:\n",
    "        #Assume that the number is prime by setting (flag = True)\n",
    "        flag = True\n",
    "        \n",
    "        #If count == bound, then our requirement is fullfilled, hence break        \n",
    "        if count == bound:\n",
    "            break\n",
    "        \n",
    "        #Check weather 'num' is a prime number or not if so, then append to prime_number list\n",
    "        for i in range(2, math.ceil(math.sqrt(num)) + 1):\n",
    "            if num % i == 0:\n",
    "                flag = False\n",
    "                break\n",
    "        if flag:\n",
    "            count += 1\n",
    "            prime_numbers.append(num)\n",
    "\n",
    "        #Increment number by 1\n",
    "        num += 1\n",
    "       \n",
    "    return prime_numbers\n",
    "            \n",
    "        \n",
    "    \n",
    "\n",
    "#Print series\n",
    "def printing_series(series, bound):\n",
    "    if series == \"fibonacci\":\n",
    "        return fibonacci_sequence(bound)\n",
    "    elif series == \"8\":\n",
    "        return multiples_of_series(int(series), bound)\n",
    "    elif series == \"odd\":\n",
    "        return ist_b_odd_integers(bound)\n",
    "    elif series == \"prime\":\n",
    "        return ist_b_prime_numbers(bound)\n",
    "\n",
    "#select operation\n",
    "def select_operation():\n",
    "    while True:\n",
    "        print(\"Enter any of the below operation\")\n",
    "        print(\" 👉 fibonacci\")\n",
    "        print(\" 👉 \")\n",
    "        print(\" 👉 i\")\n",
    "    "
   ]
  },
  {
   "cell_type": "code",
   "execution_count": 37,
   "id": "352083d7-d715-44ad-9b00-4ab183b37c50",
   "metadata": {},
   "outputs": [
    {
     "data": {
      "text/plain": [
       "[2, 3, 5, 7, 11, 13, 17, 19, 23]"
      ]
     },
     "execution_count": 37,
     "metadata": {},
     "output_type": "execute_result"
    }
   ],
   "source": [
    "#Test the logic\n",
    "series\n"
   ]
  }
 ],
 "metadata": {
  "kernelspec": {
   "display_name": "Python 3 (ipykernel)",
   "language": "python",
   "name": "python3"
  },
  "language_info": {
   "codemirror_mode": {
    "name": "ipython",
    "version": 3
   },
   "file_extension": ".py",
   "mimetype": "text/x-python",
   "name": "python",
   "nbconvert_exporter": "python",
   "pygments_lexer": "ipython3",
   "version": "3.12.2"
  }
 },
 "nbformat": 4,
 "nbformat_minor": 5
}
