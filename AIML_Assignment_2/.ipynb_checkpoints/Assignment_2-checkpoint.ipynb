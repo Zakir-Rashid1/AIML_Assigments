{
 "cells": [
  {
   "cell_type": "markdown",
   "id": "771539ed-f338-4373-9a82-fa287e6ff963",
   "metadata": {},
   "source": [
    "## <center style=\"color: red\"> Assignment 02 </center>\n",
    "\n",
    "#### <center> Numpy(Numerical Python)  </center>"
   ]
  },
  {
   "cell_type": "code",
   "execution_count": 76,
   "id": "1c03de3e-1808-49a6-a886-6ab50e571d26",
   "metadata": {},
   "outputs": [],
   "source": [
    "import numpy as np\n",
    "import pandas as pd"
   ]
  },
  {
   "cell_type": "markdown",
   "id": "aa6b5609-e7d9-4a45-954f-ca1e9e7c1d40",
   "metadata": {},
   "source": [
    "### Problem 01:  MANIPULATING EXISTING ARRAYS"
   ]
  },
  {
   "cell_type": "markdown",
   "id": "a2d299f1-7363-4d10-9d34-ba08846b5acc",
   "metadata": {},
   "source": [
    "#### <li> 1.1 Load from a txt file </li>"
   ]
  },
  {
   "cell_type": "code",
   "execution_count": 77,
   "id": "22257b4d-caa0-4596-b998-674e1d91d2ef",
   "metadata": {},
   "outputs": [
    {
     "data": {
      "text/plain": [
       "array([[8.4230200e+05, 1.7990000e+01, 1.0380000e+01, 1.2280000e+02],\n",
       "       [8.4300903e+07, 1.9690000e+01, 2.1000000e+01, 1.3000000e+02],\n",
       "       [8.4348301e+07, 1.1420000e+01, 1.4320000e+01, 1.3500000e+02]])"
      ]
     },
     "execution_count": 77,
     "metadata": {},
     "output_type": "execute_result"
    }
   ],
   "source": [
    "#Load breast cancer data from data.txt\n",
    "bcancer_data = np.loadtxt(\"./data.txt\", skiprows=1)\n",
    "bcancer_data"
   ]
  },
  {
   "cell_type": "markdown",
   "id": "4e833db8-4c58-4396-b81e-6dfb3b878c26",
   "metadata": {},
   "source": [
    "#### <li> 1.2 Load from csv file </li>"
   ]
  },
  {
   "cell_type": "code",
   "execution_count": 78,
   "id": "c8186368-2a6d-474d-a1b4-e58dff63608b",
   "metadata": {},
   "outputs": [
    {
     "data": {
      "text/plain": [
       "array([[  1.,   2.,   3.,   4.,   5.],\n",
       "       [432., 411., 438., 442., 465.],\n",
       "       [466., 475., 412., 428., 423.],\n",
       "       [429., 407., 469., 477., 434.],\n",
       "       [483., 474., 468., 485., 425.],\n",
       "       [437., 470., 478., 495., 450.],\n",
       "       [417., 471., 467., 477., 437.],\n",
       "       [402., 414., 473., 436., 483.],\n",
       "       [457., 433., 485., 415., 461.],\n",
       "       [410., 471., 483., 474., 433.],\n",
       "       [420., 403., 438., 485., 433.],\n",
       "       [470., 487., 407., 408., 401.],\n",
       "       [486., 432., 451., 405., 456.],\n",
       "       [438., 484., 413., 445., 411.],\n",
       "       [461., 475., 493., 474., 400.],\n",
       "       [451., 416., 415., 412., 475.],\n",
       "       [478., 499., 421., 401., 421.],\n",
       "       [452., 481., 498., 450., 413.],\n",
       "       [406., 426., 497., 403., 462.],\n",
       "       [498., 412., 416., 431., 461.],\n",
       "       [451., 445., 492., 472., 446.],\n",
       "       [449., 491., 458., 461., 460.],\n",
       "       [480., 420., 473., 445., 468.],\n",
       "       [455., 425., 466., 463., 473.],\n",
       "       [449., 414., 405., 460., 402.],\n",
       "       [422., 441., 453., 461., 429.],\n",
       "       [496., 443., 461., 470., 434.],\n",
       "       [433., 466., 432., 492., 461.],\n",
       "       [414., 485., 491., 467., 410.],\n",
       "       [485., 470., 442., 483., 422.],\n",
       "       [482., 419., 493., 418., 417.]])"
      ]
     },
     "execution_count": 78,
     "metadata": {},
     "output_type": "execute_result"
    }
   ],
   "source": [
    "#Load salaries data from salaries.csv file\n",
    "salaries = np.loadtxt(\"./salaries.csv\", delimiter=\",\")\n",
    "salaries"
   ]
  },
  {
   "cell_type": "markdown",
   "id": "634cb36f-56d4-4f2b-9150-59a4fda09aaa",
   "metadata": {},
   "source": [
    "#### <li> 1.3 Make a list into an array </li>"
   ]
  },
  {
   "cell_type": "code",
   "execution_count": 79,
   "id": "2eef40cc-9798-47d7-bfa2-cbbddc0e9fb8",
   "metadata": {},
   "outputs": [],
   "source": [
    "#Function thal'll convert list\n",
    "#into numpy arrary\n",
    "def list_to_numpy_array(arr, flag):\n",
    "    \"\"\"\n",
    "    Convert list into numpy array\n",
    "\n",
    "    Parameters:\n",
    "    arr(list), flag(str): Input matrix and flag respectivelly\n",
    "\n",
    "    Return:\n",
    "    arr(numpy.ndim): output array\n",
    "    \"\"\"\n",
    "    return np.array(arr, dtype=flag)\n",
    "    "
   ]
  },
  {
   "cell_type": "code",
   "execution_count": 80,
   "id": "7a40f850-de63-4bae-a21c-bec58b8320f4",
   "metadata": {},
   "outputs": [
    {
     "name": "stdout",
     "output_type": "stream",
     "text": [
      "Returned numpy array is: [  1.   200.98   3.     4.  ]\n"
     ]
    }
   ],
   "source": [
    "numpy_array = list_to_numpy_array([1, 200.98, 3, 4], \"float64\")\n",
    "print(f\"Returned numpy array is: {numpy_array}\")"
   ]
  },
  {
   "cell_type": "markdown",
   "id": "209dbf03-4237-4c76-8ec2-c69f76864021",
   "metadata": {},
   "source": [
    "### Problem 02:  MAKING ARRAY FROM SCRATCH"
   ]
  },
  {
   "cell_type": "markdown",
   "id": "d5f19814-ae1e-49c6-991e-954d3a905f31",
   "metadata": {},
   "source": [
    "#### <li> 2.1 Making Block diagonal arrays </li>"
   ]
  },
  {
   "cell_type": "code",
   "execution_count": 81,
   "id": "46ac7bc4-b868-4314-9b61-5d6b0582a04a",
   "metadata": {},
   "outputs": [],
   "source": [
    "#Function that'll generate a \n",
    "#random 3 x 3 (int) matrices\n",
    "rng = np.random.default_rng()\n",
    "def matrices_ceator():\n",
    "    \"\"\"\n",
    "    Create a random 3 x 3 matrix\n",
    "\n",
    "    Parameter:\n",
    "    None\n",
    "\n",
    "    Return:\n",
    "    arr(numpy.ndim): output array\n",
    "    \"\"\"\n",
    "    return rng.integers(2, 8, size=(3, 3), endpoint=True)"
   ]
  },
  {
   "cell_type": "code",
   "execution_count": 82,
   "id": "e7d93bdb-e7e6-4e5e-9ef2-4c196db3191a",
   "metadata": {},
   "outputs": [
    {
     "name": "stdout",
     "output_type": "stream",
     "text": [
      "Block Matrix is:\n"
     ]
    },
    {
     "data": {
      "text/plain": [
       "array([[5., 5., 4., 0., 0., 0., 0., 0., 0.],\n",
       "       [8., 3., 7., 0., 0., 0., 0., 0., 0.],\n",
       "       [2., 8., 4., 0., 0., 0., 0., 0., 0.],\n",
       "       [0., 0., 0., 4., 6., 6., 0., 0., 0.],\n",
       "       [0., 0., 0., 3., 3., 4., 0., 0., 0.],\n",
       "       [0., 0., 0., 8., 2., 2., 0., 0., 0.],\n",
       "       [0., 0., 0., 0., 0., 0., 8., 3., 5.],\n",
       "       [0., 0., 0., 0., 0., 0., 7., 7., 5.],\n",
       "       [0., 0., 0., 0., 0., 0., 5., 3., 4.]])"
      ]
     },
     "execution_count": 82,
     "metadata": {},
     "output_type": "execute_result"
    }
   ],
   "source": [
    "mat1 = matrices_ceator()\n",
    "mat2 = matrices_ceator()\n",
    "mat3 = matrices_ceator()\n",
    "\n",
    "#Create a block matrix\n",
    "block_mat = np.block([\n",
    "    [mat1, np.zeros(18).reshape(3, 6)],\n",
    "    [np.zeros(9).reshape(3, 3), mat2, np.zeros(9).reshape(3, 3)],\n",
    "    [np.zeros(18).reshape(3, 6), mat3]\n",
    "])\n",
    "\n",
    "#Print block matrix\n",
    "print(f\"Block Matrix is:\")\n",
    "block_mat"
   ]
  },
  {
   "cell_type": "markdown",
   "id": "7b92b3ed-b1eb-4dd7-bf6b-e7ea615cf5cf",
   "metadata": {},
   "source": [
    "#### <li> 2.2 Off diagonal block matrix </li>"
   ]
  },
  {
   "cell_type": "code",
   "execution_count": 83,
   "id": "02cb7207-e892-469f-9f7f-be8b03a936c6",
   "metadata": {},
   "outputs": [
    {
     "name": "stdout",
     "output_type": "stream",
     "text": [
      "Off diagonal block matrix is:\n"
     ]
    },
    {
     "data": {
      "text/plain": [
       "array([[0., 0., 0., 5., 5., 4., 0., 0., 0.],\n",
       "       [0., 0., 0., 8., 3., 7., 0., 0., 0.],\n",
       "       [0., 0., 0., 2., 8., 4., 0., 0., 0.],\n",
       "       [4., 6., 6., 0., 0., 0., 0., 0., 0.],\n",
       "       [3., 3., 4., 0., 0., 0., 0., 0., 0.],\n",
       "       [8., 2., 2., 0., 0., 0., 0., 0., 0.],\n",
       "       [0., 0., 0., 8., 3., 5., 0., 0., 0.],\n",
       "       [0., 0., 0., 7., 7., 5., 0., 0., 0.],\n",
       "       [0., 0., 0., 5., 3., 4., 0., 0., 0.]])"
      ]
     },
     "execution_count": 83,
     "metadata": {},
     "output_type": "execute_result"
    }
   ],
   "source": [
    "#Create an off diagonal block matrix\n",
    "off_diag_block_mat = np.block([\n",
    "    [np.zeros(9).reshape(3, 3), mat1, np.zeros(9).reshape(3, 3)],\n",
    "    [mat2, np.zeros(18).reshape(3, 6)],\n",
    "    [np.zeros(9).reshape(3, 3), mat3, np.zeros(9).reshape(3, 3)]\n",
    "])\n",
    "\n",
    "#Print off diagonal block matrix\n",
    "print(\"Off diagonal block matrix is:\")\n",
    "off_diag_block_mat"
   ]
  },
  {
   "cell_type": "markdown",
   "id": "08270ef3-a95e-4b1c-b53a-a8ff85c59f40",
   "metadata": {},
   "source": [
    "#### <li> 2.4 Matrix Operations</li>"
   ]
  },
  {
   "cell_type": "code",
   "execution_count": 84,
   "id": "a7eebea5-2bda-4bbe-a742-47ec6bb00fdb",
   "metadata": {},
   "outputs": [],
   "source": [
    "#Function that'll check whether the given \n",
    "#matrix is symmertic or not\n",
    "def is_symmetric(mat):\n",
    "    \"\"\"\n",
    "    Check if the given matrix is symmertic or not\n",
    "\n",
    "    Parameter:\n",
    "    mat(array.ndim): Input numpy array\n",
    "\n",
    "    Return:\n",
    "    bool: return True if the given matrix is symmetric otherwise False\n",
    "    \"\"\"\n",
    "    return True if np.array_equal(arr, arr.T) else False\n",
    "\n",
    "\n",
    "#Function that'll check whether the given \n",
    "#matrix is anti-symmetric or not\n",
    "def is_anti_symmetric(mat):\n",
    "    \"\"\"\n",
    "    Check if the given matrix is anti-symmetric or not\n",
    "\n",
    "    Parameter:\n",
    "    mat(array.ndim): Input numpy array\n",
    "\n",
    "    Return:\n",
    "    bool: return True if the given matrix is anti-symmetric otherwise False\n",
    "    \"\"\"\n",
    "    #Check if arr + arr.T = 0, then return True else return False\n",
    "    return True if np.all(arr + arr.T == 0) else False\n",
    "\n",
    "\n",
    "\n",
    "#Function that'll check whether the given\n",
    "#matrix is idempotent or not\n",
    "def is_idempotent(mat):\n",
    "    \"\"\"\n",
    "    Check if the given matrix is idempotent or not\n",
    "\n",
    "    Parameter:\n",
    "    mat(array.ndim): Input numpy array\n",
    "\n",
    "    Return:\n",
    "    bool: return True if the given matrix is idempotent otherwise False\n",
    "    \"\"\"\n",
    "    return True if np.array_equal(mat * mat, mat) else False\n",
    "\n",
    "\n",
    "\n",
    "#Function that'll check whether the given\n",
    "#matrix is hermitian or not\n",
    "def is_hermitian(mat):\n",
    "    \"\"\"\n",
    "    Check if the given matrix is hermitian or not\n",
    "\n",
    "    Parameter:\n",
    "    mat(array.ndim): Input numpy array\n",
    "\n",
    "    Return:\n",
    "    bool: return True if the given matrix is hermitian otherwise False\n",
    "    \"\"\"\n",
    "    return np.allclose(mat, np.conjugate(mat.T))\n",
    "\n",
    "\n",
    "#Function that'll check whether the given\n",
    "#matrix is unitary or not\n",
    "def is_unitary(mat):\n",
    "    \"\"\"\n",
    "    Check if the given matrix is unitary or not\n",
    "\n",
    "    Parameter:\n",
    "    mat(array.ndim): Input numpy array\n",
    "\n",
    "    Return:\n",
    "    bool: return True if the given matrix is unitary otherwise False\n",
    "    \"\"\"\n",
    "\n",
    "    product = np.dot(mat, np.conjugate(mat.T))\n",
    "    return np.allclose(product, np.eye(mat.shape[0]))\n",
    "\n",
    "#Select Operation\n",
    "operation = {\n",
    "    \"symmetric\": is_symmetric,\n",
    "    \"anti-symmetric\": is_anti_symmetric,\n",
    "    \"idempotent\": is_idempotent,\n",
    "    \"hermitian\": is_hermitian,\n",
    "    \"unitary\": is_unitary\n",
    "}\n",
    "\n",
    "\n",
    "#Select operation\n",
    "def select_operation():\n",
    "    while True:\n",
    "        print(\"Set of operations (select any one)\")\n",
    "        print(\"👉➤ symmetric\")\n",
    "        print(\"👉➤ anti-symmetric\")\n",
    "        print(\"👉➤ idempotent\")\n",
    "        print(\"👉➤ hermitian\")\n",
    "        print(\"👉➤ unitary\")\n",
    "        \n",
    "        return input(\"Select 'Flag' value: \")\n",
    "        \n",
    "\n",
    "#Check type of matrices\n",
    "def check_type(mat, flag):\n",
    "    if flag not in operation.keys():\n",
    "        return \"Invalid Operation\"\n",
    "    #If flag value is valid then call an appropiate function\n",
    "    return operation.get(flag)(mat)"
   ]
  },
  {
   "cell_type": "code",
   "execution_count": 85,
   "id": "1920d48a-f416-45c5-a8ef-360a4dfa5ad1",
   "metadata": {},
   "outputs": [
    {
     "name": "stdout",
     "output_type": "stream",
     "text": [
      "Set of operations (select any one)\n",
      "👉➤ symmetric\n",
      "👉➤ anti-symmetric\n",
      "👉➤ idempotent\n",
      "👉➤ hermitian\n",
      "👉➤ unitary\n"
     ]
    },
    {
     "name": "stdin",
     "output_type": "stream",
     "text": [
      "Select 'Flag' value:  anti-symmertic\n"
     ]
    },
    {
     "name": "stdout",
     "output_type": "stream",
     "text": [
      "Given matrix is anti-symmertic matrix\n"
     ]
    }
   ],
   "source": [
    "#Complex square matrix\n",
    "arr = np.array([\n",
    "    [3j / np.sqrt(2), -1 / np.sqrt(2)],\n",
    "    [1 / np.sqrt(2), -1j / np.sqrt(2)]   \n",
    "])\n",
    "\n",
    "#Select operation\n",
    "op = select_operation()\n",
    "if check_type(arr, op):\n",
    "    print(f\"Given matrix is {op} matrix\")\n",
    "else:\n",
    "    print(f\"Given matrix is not a {op} matrix\")\n",
    "    "
   ]
  },
  {
   "cell_type": "markdown",
   "id": "dc6bdac0-4101-4c1d-bfe4-91a34c40908a",
   "metadata": {},
   "source": [
    "#### <li> 2.5 Array Operations</li>"
   ]
  },
  {
   "cell_type": "code",
   "execution_count": 86,
   "id": "917101d7-6bb6-40c5-a857-e2010953461e",
   "metadata": {},
   "outputs": [],
   "source": [
    "#Function that'll convert a given 1D array into 2D array\n",
    "def _1D_to_2D(arr):\n",
    "    \"\"\"\n",
    "    Convert a given 1D array into 2D array(matrix)\n",
    "\n",
    "    Parameter:\n",
    "    arr(array.ndim): Input 1D array\n",
    "\n",
    "    Return:\n",
    "    arr(array.ndim): Ouput 2D array(matrix)\n",
    "    \"\"\"\n",
    "\n",
    "    return np.reshape(arr, (3, arr.shape[0]//3))"
   ]
  },
  {
   "cell_type": "code",
   "execution_count": 87,
   "id": "805d59f1-d1d3-4ce2-b76a-dc8421153d45",
   "metadata": {},
   "outputs": [
    {
     "name": "stdout",
     "output_type": "stream",
     "text": [
      "After converting into 2D array\n"
     ]
    },
    {
     "data": {
      "text/plain": [
       "array([[ 3, 11, 13,  5,  3, 10],\n",
       "       [14, 12,  5,  3, 10,  7],\n",
       "       [ 2, 13, 13,  2, 11,  8]])"
      ]
     },
     "execution_count": 87,
     "metadata": {},
     "output_type": "execute_result"
    }
   ],
   "source": [
    "#Create a vector of size 18\n",
    "arr = np.random.randint(2, 15, 18)\n",
    "\n",
    "#Convert it into 2D array\n",
    "print(\"After converting into 2D array\")\n",
    "_1D_to_2D(arr)"
   ]
  },
  {
   "cell_type": "markdown",
   "id": "7321528b-8e6b-4ded-921b-5dec10fa61e5",
   "metadata": {},
   "source": [
    "#### <li> 2.6 Avoiding element-wise comparison</li>"
   ]
  },
  {
   "cell_type": "code",
   "execution_count": 88,
   "id": "be8c826d-98ae-458c-b498-c4485897c20e",
   "metadata": {},
   "outputs": [],
   "source": [
    "#Function that'll check whether the elements at 3i\n",
    "#position are same or not\n",
    "def comparasion_using_all(arr):\n",
    "    \"\"\"\n",
    "    Check elements at 3i position\n",
    "\n",
    "    Parameters:\n",
    "    arr(array.ndim): Input 1D array\n",
    "\n",
    "    Return:\n",
    "    bool: True if they are same otherwise False\n",
    "    \"\"\"\n",
    "    \n",
    "    #Extract elements at position 3*n (n belongs to Z)\n",
    "    #Using slicing\n",
    "    extracted_arr = arr[::3]\n",
    "    \n",
    "    #Compare all the elements of extracted_arr, if\n",
    "    #same then return True otherwise False\n",
    "    return np.all(extracted_arr == extracted_arr[0])\n"
   ]
  },
  {
   "cell_type": "code",
   "execution_count": 89,
   "id": "61499022-2a94-49f1-9962-0af067a750c9",
   "metadata": {},
   "outputs": [
    {
     "name": "stdout",
     "output_type": "stream",
     "text": [
      "The elements of given array are same at '3i' positions\n"
     ]
    }
   ],
   "source": [
    "#Input array\n",
    "arr = np.array([\n",
    "    11, 2, 3, 11, 21, 34, 11, 239\n",
    "])\n",
    "\n",
    "if comparasion_using_all(arr):\n",
    "    print(f\"The elements of given array are same at '3i' positions\")\n",
    "else:\n",
    "    print(f\"The elements of given array are not same at '3i' positions\")"
   ]
  },
  {
   "cell_type": "markdown",
   "id": "dd8cc4d9-4764-46c1-b8e3-cfcbb53f79e6",
   "metadata": {},
   "source": [
    "### Problem 03:  EXPONENTIALS"
   ]
  },
  {
   "cell_type": "markdown",
   "id": "09a0e849-607e-49b7-9d23-cd0149173fcd",
   "metadata": {},
   "source": [
    "#### <li> 3.1 Exponentials</li>"
   ]
  },
  {
   "cell_type": "code",
   "execution_count": 90,
   "id": "ca0b2cc4-f54c-4d9c-9d21-18af2c8dbe7d",
   "metadata": {},
   "outputs": [],
   "source": [
    "import math\n",
    "#Function that'll compute exponential of given matrix\n",
    "#using taylor expansion\n",
    "def taylor_expansion(mat):\n",
    "    \"\"\"\n",
    "    Compute taylor expansion upto 3rd power\n",
    "\n",
    "    Parameter:\n",
    "    mat(array.ndim): Input matrix\n",
    "\n",
    "    Return:\n",
    "    array.ndim: Output matrix that contains exponential values\n",
    "    \"\"\"\n",
    "    #Taylor expansion formula upto 3rd power\n",
    "    taylor_formula = lambda x: 1 + x + (np.square(x) / math.factorial(2)) + ((x**3) / math.factorial(3))\n",
    "\n",
    "    #Compute exponential values\n",
    "    #Create an empy matrix of same shape(like mat)\n",
    "    exponent_values = np.empty_like(mat, dtype=float)\n",
    "    for i in range(mat.shape[0]):\n",
    "        for j in range(mat.shape[1]):\n",
    "            #Append values at their right positions\n",
    "            exponent_values[i, j] = taylor_formula(mat[i, j])\n",
    "\n",
    "    #Return exponential value matrix\n",
    "    return exponent_values\n"
   ]
  },
  {
   "cell_type": "code",
   "execution_count": 91,
   "id": "9786840d-c583-49b2-85a4-6c9102399bde",
   "metadata": {},
   "outputs": [
    {
     "name": "stdout",
     "output_type": "stream",
     "text": [
      "Value of exponentials using 'Taylor Expansion' is:\n",
      " [[  2.66666667   6.33333333  13.        ]\n",
      " [126.33333333 172.         227.66666667]]\n",
      "Value of exponentials using 'Numpy Function' is:\n",
      " [[2.71828183e+00 7.38905610e+00 2.00855369e+01]\n",
      " [2.98095799e+03 8.10308393e+03 2.20264658e+04]]\n"
     ]
    }
   ],
   "source": [
    "print(f\"Value of exponentials using 'Taylor Expansion' is:\\n {taylor_expansion(np.array([[1, 2, 3], [8, 9, 10]]))}\")\n",
    "print(f\"Value of exponentials using 'Numpy Function' is:\\n {np.exp(np.array([[1, 2, 3], [8, 9, 10]]))}\")\n"
   ]
  },
  {
   "cell_type": "markdown",
   "id": "027cb822-b62a-4a36-923d-a21f0015c8db",
   "metadata": {},
   "source": [
    "##### Reason for not being same\n",
    "<p>The two exponential values are not same, because we are only computing taylor serires upto\n",
    "third power, which eventually looses precesion, hence gives inaccurate results</p>"
   ]
  },
  {
   "cell_type": "markdown",
   "id": "f8555d62-1a8b-4306-b5a7-ee7234d24435",
   "metadata": {},
   "source": [
    "#### <li> 3.2 Euler’s formula</li>"
   ]
  },
  {
   "cell_type": "code",
   "execution_count": 92,
   "id": "39b39d37-5d23-4fac-a5ae-f9fec75b9252",
   "metadata": {},
   "outputs": [],
   "source": [
    "#Function that'll validate Euler formula\n",
    "#e^ix = cos(x) + jsin(x)\n",
    "def validate_euler_formula(mat):\n",
    "    \"\"\"\n",
    "    Validate eulers formula\n",
    "\n",
    "    Parameter:\n",
    "    mat(array.ndim): Given input matrix\n",
    "\n",
    "    Return:\n",
    "    bool: True if the computed values are same otherwise False\n",
    "    \"\"\"\n",
    "\n",
    "    #Compute exponential values of mat (i,e e^(ix))\n",
    "    e_power_iota_mat = np.exp(mat * 1j)\n",
    "    \n",
    "    #Compute cos(mat) and sin(mat)\n",
    "    cos_mat = np.cos(mat)\n",
    "    sin_mat = np.sin(mat)\n",
    "\n",
    "    #Return True if they are same otherwise False\n",
    "    return np.allclose(e_power_iota_mat, cos_mat + 1j * sin_mat)"
   ]
  },
  {
   "cell_type": "code",
   "execution_count": 93,
   "id": "e598728e-64f5-4278-8da5-95880e9eab4a",
   "metadata": {},
   "outputs": [
    {
     "name": "stdout",
     "output_type": "stream",
     "text": [
      "Eulers formula validated 🥰\n"
     ]
    }
   ],
   "source": [
    "#Create a random 3 x 3 integer matrix \n",
    "mat = np.random.randint(9, size=(3, 3))\n",
    "if validate_euler_formula(mat):\n",
    "    print(\"Eulers formula validated 🥰\")\n",
    "else:\n",
    "    print(\"Something bad happen:(😣⚠\")"
   ]
  },
  {
   "cell_type": "markdown",
   "id": "eb90b3d1-dff9-423e-86b9-f4d75ca56b58",
   "metadata": {},
   "source": [
    "### Problem 04: BUSINESS MANAGEMENT"
   ]
  },
  {
   "cell_type": "markdown",
   "id": "b577674c-59ad-4296-9329-a818907cab76",
   "metadata": {},
   "source": [
    "#### <li> 4.1 Array creation</li>"
   ]
  },
  {
   "cell_type": "code",
   "execution_count": 94,
   "id": "ec422c5f-48c3-479e-bc66-47f75e217194",
   "metadata": {},
   "outputs": [
    {
     "name": "stdout",
     "output_type": "stream",
     "text": [
      "Equivalent numpy array of .csv file is: \n",
      " [[  1.   2.   3.   4.   5.]\n",
      " [432. 411. 438. 442. 465.]\n",
      " [466. 475. 412. 428. 423.]\n",
      " [429. 407. 469. 477. 434.]\n",
      " [483. 474. 468. 485. 425.]\n",
      " [437. 470. 478. 495. 450.]\n",
      " [417. 471. 467. 477. 437.]\n",
      " [402. 414. 473. 436. 483.]\n",
      " [457. 433. 485. 415. 461.]\n",
      " [410. 471. 483. 474. 433.]\n",
      " [420. 403. 438. 485. 433.]\n",
      " [470. 487. 407. 408. 401.]\n",
      " [486. 432. 451. 405. 456.]\n",
      " [438. 484. 413. 445. 411.]\n",
      " [461. 475. 493. 474. 400.]]\n"
     ]
    }
   ],
   "source": [
    "#Function that'll load the .csv file into numpy array\n",
    "def create_numpy_array(data):\n",
    "    \"\"\"\n",
    "    Converts data of .csv file into numpy array\n",
    "\n",
    "    Parameters:\n",
    "    salaries(str): path of .csv file\n",
    "\n",
    "    Return:\n",
    "    arr(numpy.ndim): numpy array \n",
    "    \"\"\"\n",
    "    return np.loadtxt(data, delimiter=\",\")\n",
    "\n",
    "\n",
    "#Specifying the path of salaries.csv\n",
    "path = \"./salaries.csv\"\n",
    "data = create_numpy_array(path)\n",
    "\n",
    "#Print numpy array\n",
    "print(f\"Equivalent numpy array of .csv file is: \\n {data[:15]}\")"
   ]
  },
  {
   "cell_type": "markdown",
   "id": "9b6b5e23-60ca-48eb-abad-433d02d515c5",
   "metadata": {},
   "source": [
    "#### <li> 4.2 Mothwise</li>"
   ]
  },
  {
   "cell_type": "code",
   "execution_count": 95,
   "id": "67e5c13a-c071-4e1c-b185-07dc14d45629",
   "metadata": {},
   "outputs": [],
   "source": [
    "#Function that'll create mothwise(2D) array\n",
    "def create_monthwise_data(data):\n",
    "    \"\"\"\n",
    "    Create a monthwise 2D array\n",
    "\n",
    "    Parameters:\n",
    "    salaries(numpy.ndim): numpy array\n",
    "\n",
    "    Returns:\n",
    "    arr(numpy.ndim): \n",
    "    \"\"\"\n",
    "\n",
    "    #Compute multiple of 12 \n",
    "    num_rows = data.shape[0] // 12 * 12\n",
    "    #Return a month-wise 2D numpy array\n",
    "    return data[:num_rows].reshape(12, -1, data.shape[1])"
   ]
  },
  {
   "cell_type": "code",
   "execution_count": 96,
   "id": "bc333178-3aae-4ffb-adc9-29d9b49f2321",
   "metadata": {},
   "outputs": [
    {
     "name": "stdout",
     "output_type": "stream",
     "text": [
      "Moth wise data is: \n"
     ]
    },
    {
     "data": {
      "text/plain": [
       "array([[[  1.,   2.,   3.,   4.,   5.],\n",
       "        [432., 411., 438., 442., 465.]],\n",
       "\n",
       "       [[466., 475., 412., 428., 423.],\n",
       "        [429., 407., 469., 477., 434.]],\n",
       "\n",
       "       [[483., 474., 468., 485., 425.],\n",
       "        [437., 470., 478., 495., 450.]],\n",
       "\n",
       "       [[417., 471., 467., 477., 437.],\n",
       "        [402., 414., 473., 436., 483.]],\n",
       "\n",
       "       [[457., 433., 485., 415., 461.],\n",
       "        [410., 471., 483., 474., 433.]],\n",
       "\n",
       "       [[420., 403., 438., 485., 433.],\n",
       "        [470., 487., 407., 408., 401.]],\n",
       "\n",
       "       [[486., 432., 451., 405., 456.],\n",
       "        [438., 484., 413., 445., 411.]],\n",
       "\n",
       "       [[461., 475., 493., 474., 400.],\n",
       "        [451., 416., 415., 412., 475.]],\n",
       "\n",
       "       [[478., 499., 421., 401., 421.],\n",
       "        [452., 481., 498., 450., 413.]],\n",
       "\n",
       "       [[406., 426., 497., 403., 462.],\n",
       "        [498., 412., 416., 431., 461.]],\n",
       "\n",
       "       [[451., 445., 492., 472., 446.],\n",
       "        [449., 491., 458., 461., 460.]],\n",
       "\n",
       "       [[480., 420., 473., 445., 468.],\n",
       "        [455., 425., 466., 463., 473.]]])"
      ]
     },
     "execution_count": 96,
     "metadata": {},
     "output_type": "execute_result"
    }
   ],
   "source": [
    "#Compute monthwise data\n",
    "monthwise_data = create_monthwise_data(data)\n",
    "#Print month wise data\n",
    "print(f\"Moth wise data is: \")\n",
    "monthwise_data"
   ]
  },
  {
   "cell_type": "markdown",
   "id": "72cb12b0-c85b-456f-8068-0606ccef7ea8",
   "metadata": {},
   "source": [
    "#### <li> 4.3 A Specific Month</li>"
   ]
  },
  {
   "cell_type": "code",
   "execution_count": 97,
   "id": "bf621d35-30c4-45fa-9410-ec8fa5fbf48d",
   "metadata": {},
   "outputs": [],
   "source": [
    "#Function that'll compute monthwise data\n",
    "def specific_month(monthwise_data, month_num):\n",
    "    \"\"\"\n",
    "    Function that'll return the data of specified month\n",
    "\n",
    "    Parameters:\n",
    "    month_wise(numpy.ndim): Input numpy array\n",
    "\n",
    "    Return:\n",
    "    specific_month_data(numpy.ndim): Data of specified month\n",
    "    \"\"\"\n",
    "    if 0 <= month_num <= 12:\n",
    "        return monthwise_data[month_num - 1]\n",
    "    else:\n",
    "        return \"Invalid month number\"\n",
    "\n",
    "#Function used to receive and return month number and data of specified month\n",
    "def specific_month_details():\n",
    "    \"\"\"\n",
    "    Function that'll receive and return month number and data of specified month\n",
    "\n",
    "    Parameters:\n",
    "    None\n",
    "\n",
    "    Return:\n",
    "    month_num(int), specific_month_data(numpy.ndim): Month number and data of specified month\n",
    "    \"\"\"\n",
    "    month_num = int(input(\"👉Enter a valid month number (valid range: [1, 12]): \"))\n",
    "    return month_num, specific_month(monthwise_data, month_num)"
   ]
  },
  {
   "cell_type": "code",
   "execution_count": 99,
   "id": "7071d366-8d48-4c70-bcd9-82fa8a61c025",
   "metadata": {},
   "outputs": [
    {
     "name": "stdin",
     "output_type": "stream",
     "text": [
      "👉Enter a valid month number (valid range: [1, 12]):  11\n"
     ]
    },
    {
     "name": "stdout",
     "output_type": "stream",
     "text": [
      "➤Data of specified month '11' is: \n"
     ]
    },
    {
     "data": {
      "text/plain": [
       "array([[451., 445., 492., 472., 446.],\n",
       "       [449., 491., 458., 461., 460.]])"
      ]
     },
     "execution_count": 99,
     "metadata": {},
     "output_type": "execute_result"
    }
   ],
   "source": [
    "#Get month number and data of specified month\n",
    "data_getter = specific_month_details()\n",
    "print(f\"➤Data of specified month '{data_getter[0]}' is: \")\n",
    "data_getter[1]"
   ]
  },
  {
   "cell_type": "markdown",
   "id": "b157f8d0-b892-45b0-970c-201cc200d7cf",
   "metadata": {},
   "source": [
    "#### <li> 4.4 Adding new rows</li>"
   ]
  },
  {
   "cell_type": "code",
   "execution_count": 100,
   "id": "d9d318c7-0523-4eb7-842f-0bf2252ee0ff",
   "metadata": {},
   "outputs": [],
   "source": [
    "#Function that's used to  add new rows to the specified month\n",
    "def adding_new_rows(monthwise_data, new_data_row):\n",
    "    \"\"\"\n",
    "    Function that'll add new rows\n",
    "\n",
    "    Parameters:\n",
    "    monthwise_data(numpy.ndim), new_data_row(tuple): Input numpy array of specified month and shape\n",
    "    of specified month\n",
    "\n",
    "    Return:\n",
    "    new_specific_month_data(numpy.ndim): New month data\n",
    "    \"\"\"\n",
    "    #Compute current number of days within a specified month\n",
    "    max_days = specific_month_data.shape[0]\n",
    "    \n",
    "    #Validating the range of days (By assuming each month have 30 days)\n",
    "    if max_days <= 30:\n",
    "        return np.vstack((specific_month_data, np.ceil(np.random.rand(new_data_row[1])*500)))\n",
    "    else:\n",
    "        return \"Moth range exceeded by 30\"\n",
    "        "
   ]
  },
  {
   "cell_type": "code",
   "execution_count": 103,
   "id": "8ed1015f-25bc-41a3-9057-abc2602c8291",
   "metadata": {},
   "outputs": [
    {
     "name": "stdin",
     "output_type": "stream",
     "text": [
      "👉Enter a valid month number (valid range: [1, 12]):  11\n"
     ]
    },
    {
     "name": "stdout",
     "output_type": "stream",
     "text": [
      "\n",
      "After adding data of one more month\n"
     ]
    },
    {
     "data": {
      "text/plain": [
       "array([[451., 445., 492., 472., 446.],\n",
       "       [449., 491., 458., 461., 460.],\n",
       "       [170., 372., 326., 326., 499.]])"
      ]
     },
     "execution_count": 103,
     "metadata": {},
     "output_type": "execute_result"
    }
   ],
   "source": [
    "#Get data of specified month\n",
    "specific_month_data = specific_month_details()[1]\n",
    "#Add new data to the specified month\n",
    "print(\"\\nAfter adding data of one more month: \")\n",
    "adding_new_rows(specific_month_data, specific_month_data.shape)"
   ]
  },
  {
   "cell_type": "markdown",
   "id": "b7030308-3587-47ea-8ef5-fc2877ac9452",
   "metadata": {},
   "source": [
    "#### <li> 4.5 Adding new people</li>"
   ]
  },
  {
   "cell_type": "code",
   "execution_count": 104,
   "id": "e1dc1e39-a673-4893-8d10-712188dfc591",
   "metadata": {},
   "outputs": [],
   "source": [
    "#Function that's used to add new peoples\n",
    "def add_new_employees(specific_month_data):\n",
    "    \"\"\"\n",
    "    This function will add new employees to data\n",
    "    \n",
    "    Parameters:\n",
    "    num_emp(int), specific_month_data(numpy.ndim): Number of employees to add and add\n",
    "    to specific month\n",
    "\n",
    "    Return:\n",
    "    (numpy.ndim): New numpy array\n",
    "    \"\"\"\n",
    "    return np.hstack((specific_month_data, np.zeros((specific_month_data.shape[0], 1))))"
   ]
  },
  {
   "cell_type": "code",
   "execution_count": 105,
   "id": "f4b7adb3-c5cd-4705-a1db-e7595c8c9e09",
   "metadata": {},
   "outputs": [
    {
     "data": {
      "text/plain": [
       "array([[451., 445., 492., 472., 446.,   0.],\n",
       "       [449., 491., 458., 461., 460.,   0.]])"
      ]
     },
     "execution_count": 105,
     "metadata": {},
     "output_type": "execute_result"
    }
   ],
   "source": [
    "add_new_employees(specific_month_data)"
   ]
  },
  {
   "cell_type": "markdown",
   "id": "315427b6-6fc2-4fb6-979d-5fef7bf9790b",
   "metadata": {},
   "source": [
    "#### <li> 4.6 Statistics</li>"
   ]
  },
  {
   "cell_type": "code",
   "execution_count": 106,
   "id": "331ff65d-5d5b-4d12-8013-59661ccf5de1",
   "metadata": {},
   "outputs": [],
   "source": [
    "#Simple desing function\n",
    "def design():\n",
    "    print(\"=+=\" * 40, end=\"\")\n",
    "    \n",
    "    \n",
    "\n",
    "#Function used to compute statistics\n",
    "def statistics(data):\n",
    "    \"\"\"\n",
    "    This function'll calculate the statistics like, mean, sd, etc\n",
    "\n",
    "    Parameters:\n",
    "    data(numpy.ndim): Input numpy array\n",
    "\n",
    "    Return:\n",
    "    None\n",
    "    \"\"\"\n",
    "    design();print(f\"\\t🫵 Total income of employees is: {np.sum(data)}\\n\"); design()\n",
    "    print(f\"\\t🫵 Mean of per-person is: {np.mean(data, axis=0)}\\n\"); design()\n",
    "    print(f\"\\t🫵 Standard devation of per-person is: {np.std(data, axis=0)}\\n\"); design()\n",
    "    print(f\"\\t🫵 Mean of day wise is: {np.mean(data, axis=1)}\\n\"); design()\n",
    "    print(f\"\\t🫵 Standard devation of day wise is: {np.std(data, axis=1)}\\n\"); design()"
   ]
  },
  {
   "cell_type": "code",
   "execution_count": 107,
   "id": "0f031ebf-bdf8-4012-be7b-e30a34b0d5e7",
   "metadata": {},
   "outputs": [
    {
     "name": "stdout",
     "output_type": "stream",
     "text": [
      "=+==+==+==+==+==+==+==+==+==+==+==+==+==+==+==+==+==+==+==+==+==+==+==+==+==+==+==+==+==+==+==+==+==+==+==+==+==+==+==+=\t🫵 Total income of employees is: 67373.0\n",
      "\n",
      "=+==+==+==+==+==+==+==+==+==+==+==+==+==+==+==+==+==+==+==+==+==+==+==+==+==+==+==+==+==+==+==+==+==+==+==+==+==+==+==+=\t🫵 Mean of per-person is: [435.80645161 434.25806452 441.64516129 436.74193548 424.87096774]\n",
      "\n",
      "=+==+==+==+==+==+==+==+==+==+==+==+==+==+==+==+==+==+==+==+==+==+==+==+==+==+==+==+==+==+==+==+==+==+==+==+==+==+==+==+=\t🫵 Standard devation of per-person is: [83.90256229 84.27679731 85.28266034 83.92314754 80.19401552]\n",
      "\n",
      "=+==+==+==+==+==+==+==+==+==+==+==+==+==+==+==+==+==+==+==+==+==+==+==+==+==+==+==+==+==+==+==+==+==+==+==+==+==+==+==+=\t🫵 Mean of day wise is: [  3.  437.6 440.8 443.2 467.  466.  453.8 441.6 450.2 454.2 435.8 434.6\n",
      " 446.  438.2 460.6 433.8 444.  458.8 438.8 443.6 461.2 463.8 457.2 456.4\n",
      " 426.  441.2 460.8 456.8 453.4 460.4 445.8]\n",
      "\n",
      "=+==+==+==+==+==+==+==+==+==+==+==+==+==+==+==+==+==+==+==+==+==+==+==+==+==+==+==+==+==+==+==+==+==+==+==+==+==+==+==+=\t🫵 Standard devation of day wise is: [ 1.41421356 17.3735431  24.95916665 26.09521029 21.88149903 20.48414021\n",
      " 22.99913042 31.81571939 24.11970149 27.95281739 27.4182421  36.32409669\n",
      " 26.84026825 26.52847527 31.96623218 25.05513919 37.6510292  29.15750332\n",
      " 35.90765935 32.19068188 18.23622768 14.24640305 21.99454478 16.72841893\n",
      " 23.85791273 14.48309359 21.72003683 22.46241305 34.73672408 24.5812937\n",
      " 34.23098012]\n",
      "\n",
      "=+==+==+==+==+==+==+==+==+==+==+==+==+==+==+==+==+==+==+==+==+==+==+==+==+==+==+==+==+==+==+==+==+==+==+==+==+==+==+==+="
     ]
    }
   ],
   "source": [
    "\n",
    "statistics(data)"
   ]
  },
  {
   "cell_type": "code",
   "execution_count": null,
   "id": "c8ccb704-f50e-49b5-b786-f6bb309810ac",
   "metadata": {},
   "outputs": [],
   "source": []
  }
 ],
 "metadata": {
  "kernelspec": {
   "display_name": "Python 3 (ipykernel)",
   "language": "python",
   "name": "python3"
  },
  "language_info": {
   "codemirror_mode": {
    "name": "ipython",
    "version": 3
   },
   "file_extension": ".py",
   "mimetype": "text/x-python",
   "name": "python",
   "nbconvert_exporter": "python",
   "pygments_lexer": "ipython3",
   "version": "3.12.2"
  }
 },
 "nbformat": 4,
 "nbformat_minor": 5
}
