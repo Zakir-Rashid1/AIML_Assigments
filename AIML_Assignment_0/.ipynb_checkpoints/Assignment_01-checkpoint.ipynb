{
 "cells": [
  {
   "cell_type": "markdown",
   "id": "9cb0cc73-3417-4041-9966-ed9239e5e87f",
   "metadata": {},
   "source": [
    "### Palindrome Checker"
   ]
  },
  {
   "cell_type": "code",
   "execution_count": 5,
   "id": "24daaf61-a888-4949-aba0-7c07ae49f09c",
   "metadata": {},
   "outputs": [],
   "source": [
    "def is_palindrome(str):\n",
    "    \"\"\"\n",
    "    Check if a string is palindrome or not\n",
    "    A palindrome is a string/number that reads the same forward and backward (e.g 121, radar)\n",
    "\n",
    "    Args:\n",
    "    str: string to check\n",
    "    \n",
    "    Returns:\n",
    "    True if string is palindrome, False otherwise\n",
    "    \"\"\"\n",
    "    #Assuming that the given string is palindrome by setting (flag = True)\n",
    "    flag = True\n",
    "    #Setting backward pointer\n",
    "    j = len(str) - 1\n",
    "    for i in range(len(str)):\n",
    "        #At any point if i exceeds j then i'll come out from the loop\n",
    "        if i > j:\n",
    "            break\n",
    "        if str[i] == str[j]:\n",
    "            j -= 1\n",
    "        else:\n",
    "            flag = False\n",
    "    return flag\n",
    "        "
   ]
  },
  {
   "cell_type": "code",
   "execution_count": 11,
   "id": "2e997df8-025f-4341-88cc-26c01568244d",
   "metadata": {},
   "outputs": [
    {
     "name": "stdin",
     "output_type": "stream",
     "text": [
      "Enter the string to check weather it is palindrome or not:   \n"
     ]
    },
    {
     "name": "stdout",
     "output_type": "stream",
     "text": [
      "Given string ' ' is palindrome\n"
     ]
    }
   ],
   "source": [
    "#Testing the logic\n",
    "str = input(\"Enter the string to check weather it is palindrome or not: \")\n",
    "if is_palindrome(str):\n",
    "    print(f\"Given string '{str}' is palindrome\")\n",
    "else:\n",
    "    print(f\"Given string '{str}' is not palindrome\")"
   ]
  },
  {
   "cell_type": "raw",
   "id": "9c937501-74d3-4506-833a-b07aa3e0b8d8",
   "metadata": {},
   "source": []
  },
  {
   "cell_type": "markdown",
   "id": "2ec23531-3db0-4f8f-a901-d223f0c74a99",
   "metadata": {},
   "source": [
    "### Fibonacci Series"
   ]
  },
  {
   "cell_type": "code",
   "execution_count": null,
   "id": "61a2bbcb-f7d2-49aa-9886-6ef99f4383b9",
   "metadata": {},
   "outputs": [],
   "source": [
    "def fibonacci_sequence(limit):\n",
    "    "
   ]
  },
  {
   "cell_type": "code",
   "execution_count": null,
   "id": "29a0799c-36d4-4240-9a9a-b5d4c67d7013",
   "metadata": {},
   "outputs": [],
   "source": []
  },
  {
   "cell_type": "code",
   "execution_count": null,
   "id": "27cf9309-70c9-4746-ac98-f9aa3e8948e7",
   "metadata": {},
   "outputs": [],
   "source": []
  },
  {
   "cell_type": "code",
   "execution_count": null,
   "id": "17017db6-788d-4f34-8a7d-b7958a8dca18",
   "metadata": {},
   "outputs": [],
   "source": []
  },
  {
   "cell_type": "code",
   "execution_count": null,
   "id": "b44e1d2f-fe9f-444f-adfc-6f4d933fb3e4",
   "metadata": {},
   "outputs": [],
   "source": []
  },
  {
   "cell_type": "code",
   "execution_count": null,
   "id": "f84b7b79-c17f-42c8-9af5-b1e1792ef99c",
   "metadata": {},
   "outputs": [],
   "source": []
  },
  {
   "cell_type": "code",
   "execution_count": null,
   "id": "95272af9-a36c-4a7b-a7b4-0be54c02703c",
   "metadata": {},
   "outputs": [],
   "source": []
  },
  {
   "cell_type": "code",
   "execution_count": null,
   "id": "188dd631-329a-470a-9eee-a68327c9a919",
   "metadata": {},
   "outputs": [],
   "source": []
  },
  {
   "cell_type": "code",
   "execution_count": null,
   "id": "b7e59006-532d-4c2e-93f5-ee08a90fdc67",
   "metadata": {},
   "outputs": [],
   "source": []
  },
  {
   "cell_type": "code",
   "execution_count": null,
   "id": "0bb22a69-f4e2-4e8c-8391-04c3ab0eecca",
   "metadata": {},
   "outputs": [],
   "source": []
  },
  {
   "cell_type": "code",
   "execution_count": null,
   "id": "b398e6cc-eeaa-4364-869b-5951ebfb0735",
   "metadata": {},
   "outputs": [],
   "source": []
  },
  {
   "cell_type": "code",
   "execution_count": null,
   "id": "bec5116d-d94b-49ce-b37b-5b58c47f5314",
   "metadata": {},
   "outputs": [],
   "source": []
  },
  {
   "cell_type": "code",
   "execution_count": null,
   "id": "6f073342-de4c-43a0-a986-08b8b88733cf",
   "metadata": {},
   "outputs": [],
   "source": []
  },
  {
   "cell_type": "code",
   "execution_count": null,
   "id": "cd269f64-c42b-4546-898c-38de255adca8",
   "metadata": {},
   "outputs": [],
   "source": []
  },
  {
   "cell_type": "code",
   "execution_count": null,
   "id": "f946f93c-903c-4335-97c9-ab3680223ed9",
   "metadata": {},
   "outputs": [],
   "source": []
  },
  {
   "cell_type": "code",
   "execution_count": null,
   "id": "f428b8b1-adae-4cd2-a216-77995b9d4eb1",
   "metadata": {},
   "outputs": [],
   "source": []
  },
  {
   "cell_type": "code",
   "execution_count": null,
   "id": "c5c733d6-6113-40d8-9eb1-59e886a8488d",
   "metadata": {},
   "outputs": [],
   "source": []
  },
  {
   "cell_type": "code",
   "execution_count": null,
   "id": "d8483ae0-9b60-4a75-85e6-6339e9166b29",
   "metadata": {},
   "outputs": [],
   "source": []
  },
  {
   "cell_type": "code",
   "execution_count": null,
   "id": "184c2d27-9222-4e24-a177-c38936b17d7b",
   "metadata": {},
   "outputs": [],
   "source": []
  },
  {
   "cell_type": "code",
   "execution_count": null,
   "id": "fde585ac-ec43-41ee-9d95-e6215ae2f2c5",
   "metadata": {},
   "outputs": [],
   "source": []
  },
  {
   "cell_type": "code",
   "execution_count": null,
   "id": "2911a8fe-e89a-4cab-8351-842ca9e90154",
   "metadata": {},
   "outputs": [],
   "source": []
  },
  {
   "cell_type": "code",
   "execution_count": null,
   "id": "9e0f7b59-43ad-476b-a9e3-2e2a4bcccd14",
   "metadata": {},
   "outputs": [],
   "source": []
  },
  {
   "cell_type": "code",
   "execution_count": null,
   "id": "d66a96e1-dc59-4110-b5d9-c1481fb24caf",
   "metadata": {},
   "outputs": [],
   "source": []
  },
  {
   "cell_type": "code",
   "execution_count": null,
   "id": "ddb81a0b-6092-4018-a073-081b592dcf33",
   "metadata": {},
   "outputs": [],
   "source": []
  },
  {
   "cell_type": "code",
   "execution_count": null,
   "id": "213ff580-113f-44f6-a972-fe41092b39b2",
   "metadata": {},
   "outputs": [],
   "source": []
  },
  {
   "cell_type": "code",
   "execution_count": null,
   "id": "8aa55db8-17c2-4029-b6fb-ea124bb37f64",
   "metadata": {},
   "outputs": [],
   "source": []
  },
  {
   "cell_type": "code",
   "execution_count": null,
   "id": "be48c37f-b840-4081-a0b0-95d9320b53ec",
   "metadata": {},
   "outputs": [],
   "source": []
  },
  {
   "cell_type": "code",
   "execution_count": null,
   "id": "27b38784-5167-465b-b068-d0d9dac4695c",
   "metadata": {},
   "outputs": [],
   "source": []
  },
  {
   "cell_type": "code",
   "execution_count": null,
   "id": "6bf6bba0-0080-4b41-aa10-500735092d88",
   "metadata": {},
   "outputs": [],
   "source": []
  },
  {
   "cell_type": "code",
   "execution_count": null,
   "id": "653536fd-6f3d-4b01-afbd-fd9e202cb8db",
   "metadata": {},
   "outputs": [],
   "source": []
  },
  {
   "cell_type": "code",
   "execution_count": null,
   "id": "65dcf937-5419-4f61-9337-a42af6cbb6c8",
   "metadata": {},
   "outputs": [],
   "source": []
  },
  {
   "cell_type": "code",
   "execution_count": null,
   "id": "73965b60-f89d-43ac-8148-accfe6a7b07a",
   "metadata": {},
   "outputs": [],
   "source": []
  },
  {
   "cell_type": "code",
   "execution_count": null,
   "id": "13d3fb1a-057d-4ef2-a5ef-38f8f0126429",
   "metadata": {},
   "outputs": [],
   "source": []
  },
  {
   "cell_type": "code",
   "execution_count": null,
   "id": "d848adc5-7089-4e2f-9ce9-bc5c9bbe514e",
   "metadata": {},
   "outputs": [],
   "source": []
  },
  {
   "cell_type": "code",
   "execution_count": null,
   "id": "b72aad90-d6b8-4913-b574-b5adcd724e9b",
   "metadata": {},
   "outputs": [],
   "source": []
  }
 ],
 "metadata": {
  "kernelspec": {
   "display_name": "Python 3 (ipykernel)",
   "language": "python",
   "name": "python3"
  },
  "language_info": {
   "codemirror_mode": {
    "name": "ipython",
    "version": 3
   },
   "file_extension": ".py",
   "mimetype": "text/x-python",
   "name": "python",
   "nbconvert_exporter": "python",
   "pygments_lexer": "ipython3",
   "version": "3.12.2"
  }
 },
 "nbformat": 4,
 "nbformat_minor": 5
}
