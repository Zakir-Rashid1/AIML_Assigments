{
 "cells": [
  {
   "cell_type": "markdown",
   "id": "de835d5b-6f08-40fc-8d08-5e62b2b98d1d",
   "metadata": {},
   "source": [
    "## <center style=\"color: red\"> \"Artificial Intelligence and Data Science\" </center>\n",
    "## <center style=\"color: red\"> Assignment 01</center>"
   ]
  },
  {
   "cell_type": "markdown",
   "id": "9cb0cc73-3417-4041-9966-ed9239e5e87f",
   "metadata": {},
   "source": [
    "### Problem 01: Palindrome Checker"
   ]
  },
  {
   "cell_type": "code",
   "execution_count": 3,
   "id": "24daaf61-a888-4949-aba0-7c07ae49f09c",
   "metadata": {},
   "outputs": [],
   "source": [
    "def is_palindrome(str):\n",
    "    \"\"\"\n",
    "    Check if a string is palindrome or not\n",
    "    A palindrome is a string/number that reads the same forward and backward (e.g 121, radar)\n",
    "\n",
    "    Args:\n",
    "    str: string to check\n",
    "    \n",
    "    Returns:\n",
    "    True if string is palindrome, False otherwise\n",
    "    \"\"\"\n",
    "    #Assuming that the given string is palindrome by setting (flag = True)\n",
    "    flag = True\n",
    "    #Setting backward pointer\n",
    "    j = len(str) - 1\n",
    "    for i in range(len(str)):\n",
    "        #At any point if i exceeds j then return flag\n",
    "        if i > j:\n",
    "            return flag\n",
    "        if str[i] == str[j]:\n",
    "            #In each new iteration decrement the backward pointer\n",
    "            j -= 1\n",
    "        else:\n",
    "            flag = False\n",
    "    return flag\n",
    "        "
   ]
  },
  {
   "cell_type": "code",
   "execution_count": 4,
   "id": "2e997df8-025f-4341-88cc-26c01568244d",
   "metadata": {},
   "outputs": [
    {
     "name": "stdin",
     "output_type": "stream",
     "text": [
      "Enter the string to check weather it is palindrome or not:  Zack\n"
     ]
    },
    {
     "name": "stdout",
     "output_type": "stream",
     "text": [
      "Given string 'Zack' is not a palindrome\n"
     ]
    }
   ],
   "source": [
    "#Test the logic\n",
    "str = input(\"Enter the string to check weather it is palindrome or not: \")\n",
    "if is_palindrome(str):\n",
    "    print(f\"Given string '{str}' is a palindrome\")\n",
    "else:\n",
    "    print(f\"Given string '{str}' is not a palindrome\")"
   ]
  },
  {
   "cell_type": "raw",
   "id": "9c937501-74d3-4506-833a-b07aa3e0b8d8",
   "metadata": {},
   "source": []
  },
  {
   "cell_type": "markdown",
   "id": "2ec23531-3db0-4f8f-a901-d223f0c74a99",
   "metadata": {},
   "source": [
    "### Problem 02: Fibonacci Series"
   ]
  },
  {
   "cell_type": "code",
   "execution_count": 5,
   "id": "61a2bbcb-f7d2-49aa-9886-6ef99f4383b9",
   "metadata": {},
   "outputs": [],
   "source": [
    "def fibonacci_sequence(n):\n",
    "    \"\"\"\n",
    "    Generate a fibonacci sequence of length n\n",
    "    (0 1 1 2 3 5 8 13 21 ... )\n",
    "    \n",
    "    Args:\n",
    "    n(int): length of fibonaaci squence to generate\n",
    "\n",
    "    Returns:\n",
    "    list: Fibonacci sequence of length n\n",
    "    \"\"\"\n",
    "    fib_seq_list = []\n",
    "    num1, num2 = 0, 1\n",
    "    #Generate the fibonaaci squence\n",
    "    for i in range(n):\n",
    "        num3 = num1 + num2\n",
    "        num1, num2 = num2, num3\n",
    "\n",
    "        #Append the generated number to the list\n",
    "        fib_seq_list.append(num1)\n",
    "        \n",
    "    return fib_seq_list\n",
    "    \n",
    "    \n",
    "    "
   ]
  },
  {
   "cell_type": "code",
   "execution_count": 6,
   "id": "29a0799c-36d4-4240-9a9a-b5d4c67d7013",
   "metadata": {},
   "outputs": [
    {
     "name": "stdin",
     "output_type": "stream",
     "text": [
      "Enter the fibonacci sequence range:  10\n"
     ]
    },
    {
     "name": "stdout",
     "output_type": "stream",
     "text": [
      "Fibonacci sequence of length 10 is: [1, 1, 2, 3, 5, 8, 13, 21, 34, 55]\n"
     ]
    }
   ],
   "source": [
    "# Test the logic\n",
    "fib_range = int(input(\"Enter the fibonacci sequence range: \"))\n",
    "fib_seq_list = fibonacci_sequence(fib_range)\n",
    "print(f\"Fibonacci sequence of length {fib_range} is: {fib_seq_list}\")"
   ]
  },
  {
   "cell_type": "code",
   "execution_count": null,
   "id": "27cf9309-70c9-4746-ac98-f9aa3e8948e7",
   "metadata": {},
   "outputs": [],
   "source": []
  },
  {
   "cell_type": "markdown",
   "id": "9a09012d-67fa-4f18-9817-164e68847d79",
   "metadata": {},
   "source": [
    "### Problem 03: Anagram Detector"
   ]
  },
  {
   "cell_type": "code",
   "execution_count": 7,
   "id": "b44e1d2f-fe9f-444f-adfc-6f4d933fb3e4",
   "metadata": {},
   "outputs": [],
   "source": [
    "def is_anagram(str1, str2):\n",
    "    \"\"\"\n",
    "    Check whether the two strings are anagrams or not\n",
    "\n",
    "    Args:\n",
    "    str1(str), str2(str): str1, str2 are the input strings\n",
    "\n",
    "    Return:\n",
    "    True if strings are anagrams else False\n",
    "    \"\"\"\n",
    "    #Assume that the two strings are not Anagrams\n",
    "    flag = False\n",
    "    #Keep track of matched characters by setting count\n",
    "    count = 0\n",
    "\n",
    "    #Compute length of strings\n",
    "    len_str1 = len(str1)\n",
    "    len_str2 = len(str2)\n",
    "\n",
    "    #If the length of two strings are not equal then, they are not anagrams\n",
    "    if len_str1 != len_str2:\n",
    "        return False\n",
    "        \n",
    "    #Check whether the two strings are anagrmas or not\n",
    "    for i in range(len_str1):\n",
    "        for j in range(len_str2):\n",
    "            if str1[i] == str2[j]:\n",
    "                #Keep track of matched characters\n",
    "                count += 1\n",
    "                #Set flag to True if there a match in any pass\n",
    "                flag = True\n",
    "        if not flag:\n",
    "            return False\n",
    "        #Reset flag to False, to ensure that there is no match in next pass\n",
    "        flag = False\n",
    "\n",
    "    #If count == length of str1 or str2, then str1 and str2 are anagrams\n",
    "    if count == len_str1:\n",
    "        return True\n",
    "    else:\n",
    "        return False\n",
    "\n",
    "    \n",
    "    "
   ]
  },
  {
   "cell_type": "code",
   "execution_count": 8,
   "id": "f84b7b79-c17f-42c8-9af5-b1e1792ef99c",
   "metadata": {},
   "outputs": [
    {
     "name": "stdout",
     "output_type": "stream",
     "text": [
      "Note: Strings are case sensative\n"
     ]
    },
    {
     "name": "stdin",
     "output_type": "stream",
     "text": [
      "Enter string 1:  eat\n",
      "Enter string 2:  tea\n"
     ]
    },
    {
     "name": "stdout",
     "output_type": "stream",
     "text": [
      "Strings 'eat' and  'tea' are ANAGRAMS\n"
     ]
    }
   ],
   "source": [
    "#Test the logic\n",
    "print(\"Note: Strings are case sensative\")\n",
    "str1 = input(\"Enter string 1: \")\n",
    "str2 = input(\"Enter string 2: \")\n",
    "if is_anagram(str1, str2):\n",
    "    print(f\"Strings '{str1}' and  '{str2}' are ANAGRAMS\")\n",
    "else:\n",
    "    print(f\"Strings '{str1}' and  '{str2}' are NOT ANAGRAMS\")"
   ]
  },
  {
   "cell_type": "code",
   "execution_count": null,
   "id": "95272af9-a36c-4a7b-a7b4-0be54c02703c",
   "metadata": {},
   "outputs": [],
   "source": []
  },
  {
   "cell_type": "markdown",
   "id": "41be621a-1667-4990-8922-570891f6a522",
   "metadata": {},
   "source": [
    "### Problem 04: Prime Number Checker"
   ]
  },
  {
   "cell_type": "code",
   "execution_count": 1,
   "id": "b7e59006-532d-4c2e-93f5-ee08a90fdc67",
   "metadata": {},
   "outputs": [],
   "source": [
    "import math\n",
    "def is_prime(num):\n",
    "    \"\"\"\n",
    "    Check whether the given number is prime or not\n",
    "\n",
    "    Args:\n",
    "    num(int): num is the input number \n",
    "\n",
    "    Return:\n",
    "    True if num is a prime number else False\n",
    "    \"\"\"\n",
    "\n",
    "    #Handling the edge case\n",
    "    if num == 1:\n",
    "        return False\n",
    "    #Check whether the given numbers (>=2) is prime or not\n",
    "    for i in range(2, math.ceil(math.sqrt(num))):\n",
    "        #If there is any divisor from 2 to square_root(given_number), then\n",
    "        #For sure that number is not a prime number else Prime\n",
    "        if num % i == 0:\n",
    "            return False\n",
    "    return True\n",
    "        \n",
    "    "
   ]
  },
  {
   "cell_type": "code",
   "execution_count": 2,
   "id": "bec5116d-d94b-49ce-b37b-5b58c47f5314",
   "metadata": {},
   "outputs": [
    {
     "name": "stdin",
     "output_type": "stream",
     "text": [
      "Enter the number:  3\n"
     ]
    },
    {
     "name": "stdout",
     "output_type": "stream",
     "text": [
      "Given number '3' is a PRIME NUMBER\n"
     ]
    }
   ],
   "source": [
    "### Test the logic\n",
    "num = int(input(\"Enter the number: \"))\n",
    "if is_prime(num):\n",
    "    print(f\"Given number '{num}' is a PRIME NUMBER\")\n",
    "else:\n",
    "    print(f\"Given number '{num}' is  NOT a PRIME NUMBER\")"
   ]
  },
  {
   "cell_type": "markdown",
   "id": "cf8bbeae-8aa3-45e6-967b-124cd2028689",
   "metadata": {},
   "source": [
    "### Problem 05: Word Frequency Counter"
   ]
  },
  {
   "cell_type": "code",
   "execution_count": 11,
   "id": "cd269f64-c42b-4546-898c-38de255adca8",
   "metadata": {},
   "outputs": [],
   "source": [
    "def word_freq_counter(str):\n",
    "    \"\"\"\n",
    "    Given a string that consists of n words\n",
    "\n",
    "    Args:\n",
    "    str(str): Input string\n",
    "\n",
    "    Return:\n",
    "    frequecy of each word\n",
    "    \"\"\"\n",
    "\n",
    "    #Split the strings into k words\n",
    "    words = str.split()\n",
    "    i = 0\n",
    "\n",
    "    while i < len(words):\n",
    "        #Creat a separate list that counts the frequency for each word\n",
    "        frequiencie = [word for word in words  if words[i] == word]\n",
    "        print(f\"Word '{words[i]}' occurs: {len(frequiencie)} times\")\n",
    "        \n",
    "        #Update list by removing encountered words\n",
    "        words = [remaning_words for remaning_words in words if words[i] != remaning_words]\n",
    "        \n",
    "        #Reset the list to count the occurance of next word\n",
    "        frequiencie = []\n",
    "        i = 0\n",
    "        \n",
    "    "
   ]
  },
  {
   "cell_type": "code",
   "execution_count": 12,
   "id": "f946f93c-903c-4335-97c9-ab3680223ed9",
   "metadata": {},
   "outputs": [
    {
     "name": "stdin",
     "output_type": "stream",
     "text": [
      "Enter the string:  hi mom, hi dad it's me ala, a digital version of mine\n"
     ]
    },
    {
     "name": "stdout",
     "output_type": "stream",
     "text": [
      "Word 'hi' occurs: 2 times\n",
      "Word 'mom,' occurs: 1 times\n",
      "Word 'dad' occurs: 1 times\n",
      "Word 'it's' occurs: 1 times\n",
      "Word 'me' occurs: 1 times\n",
      "Word 'ala,' occurs: 1 times\n",
      "Word 'a' occurs: 1 times\n",
      "Word 'digital' occurs: 1 times\n",
      "Word 'version' occurs: 1 times\n",
      "Word 'of' occurs: 1 times\n",
      "Word 'mine' occurs: 1 times\n"
     ]
    }
   ],
   "source": [
    "#Test the logic\n",
    "sentance = input(\"Enter the string: \")\n",
    "word_freq_counter(sentance)"
   ]
  },
  {
   "cell_type": "code",
   "execution_count": null,
   "id": "e44cc647-9630-4f5b-aa9c-f4ca6580445e",
   "metadata": {},
   "outputs": [],
   "source": []
  },
  {
   "cell_type": "markdown",
   "id": "852fea26-7d67-40d5-96ec-579cf5bddf5c",
   "metadata": {},
   "source": [
    "### Problem 06: Binary To Decimal Conversion"
   ]
  },
  {
   "cell_type": "code",
   "execution_count": 13,
   "id": "3f20a00b-8a1c-436a-8eb3-7a206e5fddbc",
   "metadata": {},
   "outputs": [],
   "source": [
    "def binary_to_decimal(num):\n",
    "    \"\"\"\n",
    "    Convert the given binary number into decimal\n",
    "\n",
    "    Args:\n",
    "    num(str): num is the input binary number\n",
    "\n",
    "    Return:\n",
    "    Decimal number\n",
    "    \"\"\"\n",
    "    #Initially keep sum of weights for a given binary number = 0\n",
    "    sum_of_weights = 0\n",
    "    \n",
    "    #Assign weights to each bit\n",
    "    for i in range(1, len(num) + 1):\n",
    "        #Sum of weights\n",
    "        sum_of_weights += int(num[-1*i]) * int(math.pow(2, i-1))  \n",
    "    decimal_number = sum_of_weights\n",
    "    \n",
    "    return int(decimal_number)"
   ]
  },
  {
   "cell_type": "code",
   "execution_count": 14,
   "id": "e24d428c-45e1-46c2-9aac-a6c0cf67f7db",
   "metadata": {},
   "outputs": [
    {
     "name": "stdin",
     "output_type": "stream",
     "text": [
      "Enter a valid binary number:  10010101\n"
     ]
    },
    {
     "name": "stdout",
     "output_type": "stream",
     "text": [
      "The equivalent decimal number for the given binary number(10010101) is: '149'\n"
     ]
    }
   ],
   "source": [
    "#Test the logic\n",
    "binary_number = input(\"Enter a valid binary number: \")\n",
    "decimal_number = binary_to_decimal(binary_number)\n",
    "print(f\"The equivalent decimal number for the given binary number({binary_number}) is: '{decimal_number}'\")\n"
   ]
  },
  {
   "cell_type": "code",
   "execution_count": null,
   "id": "029c1b27-881a-47c9-925e-20d00944f379",
   "metadata": {},
   "outputs": [],
   "source": []
  },
  {
   "cell_type": "markdown",
   "id": "9896bd7c-957d-4301-a25e-074413f23323",
   "metadata": {},
   "source": [
    "### Problem 07: Pattern Printing"
   ]
  },
  {
   "cell_type": "code",
   "execution_count": 15,
   "id": "79a43815-6d34-4037-aefb-d544041e00a2",
   "metadata": {},
   "outputs": [],
   "source": [
    "#Right angled trinagle\n",
    "def right_angled_triangle(rows):\n",
    "    for i in range(1, rows + 1):\n",
    "        for j in range(i):\n",
    "            print(\"*\", end=\"  \")\n",
    "        print(\"\\n\")\n",
    "        \n",
    "\n",
    "#Square\n",
    "def square(rows):\n",
    "    for i in range(rows):\n",
    "        for j in range(rows):\n",
    "            print(\"*\", end=\"   \")\n",
    "        print(\"\\n\")\n",
    "        \n",
    "#Triangle\n",
    "def triangle(rows):\n",
    "    for i in range(rows):\n",
    "        #Print spaces to align starts\n",
    "        for _ in range(rows - i - 1):\n",
    "            print(\" \", end=\" \")\n",
    "        #Print stars\n",
    "        for _ in range(2 * i + 1):\n",
    "            print(\"*\", end=\" \")\n",
    "        print(\"\\n\")\n",
    "        \n",
    "#Inverted Triangle    \n",
    "def inverted_triangle(rows):\n",
    "    for i in range(rows):\n",
    "        #Print spaces to align starts at their right position\n",
    "        for _ in range(i):\n",
    "            print(\" \", end=\" \")\n",
    "        #Print stars\n",
    "        for _ in range(2 * rows - 2 * i - 1):\n",
    "            print(\"*\", end=\" \")\n",
    "        print(\"\\n\")\n",
    "\n",
    "#Dimond\n",
    "def dimond(rows):\n",
    "    #Print upper half of dimond (i,e upper triangle)\n",
    "    triangle(rows // 2)\n",
    "    #Print lower half of dimond (i,e inverted triangle)\n",
    "    inverted_triangle(rows // 2)\n"
   ]
  },
  {
   "cell_type": "code",
   "execution_count": 16,
   "id": "1983ec7c-85a5-48ca-a153-6f863574bf1a",
   "metadata": {},
   "outputs": [
    {
     "name": "stdout",
     "output_type": "stream",
     "text": [
      "\u001b[H\u001b[2J           Shape Drawn\n",
      "1. Print right angled triangle\n",
      "2. Print square\n",
      "3. Print triangle\n",
      "4. Print inverted triangle\n",
      "5. Print dimond\n",
      "6. Exit\n"
     ]
    },
    {
     "name": "stdin",
     "output_type": "stream",
     "text": [
      "Please enter a valid choice:  1\n",
      "Enter number of rows:  8\n"
     ]
    },
    {
     "name": "stdout",
     "output_type": "stream",
     "text": [
      "*  \n",
      "\n",
      "*  *  \n",
      "\n",
      "*  *  *  \n",
      "\n",
      "*  *  *  *  \n",
      "\n",
      "*  *  *  *  *  \n",
      "\n",
      "*  *  *  *  *  *  \n",
      "\n",
      "*  *  *  *  *  *  *  \n",
      "\n",
      "*  *  *  *  *  *  *  *  \n",
      "\n",
      "\u001b[H\u001b[2J           Shape Drawn\n",
      "1. Print right angled triangle\n",
      "2. Print square\n",
      "3. Print triangle\n",
      "4. Print inverted triangle\n",
      "5. Print dimond\n",
      "6. Exit\n"
     ]
    },
    {
     "name": "stdin",
     "output_type": "stream",
     "text": [
      "Please enter a valid choice:  2\n",
      "Enter number of rows:  8\n"
     ]
    },
    {
     "name": "stdout",
     "output_type": "stream",
     "text": [
      "*   *   *   *   *   *   *   *   \n",
      "\n",
      "*   *   *   *   *   *   *   *   \n",
      "\n",
      "*   *   *   *   *   *   *   *   \n",
      "\n",
      "*   *   *   *   *   *   *   *   \n",
      "\n",
      "*   *   *   *   *   *   *   *   \n",
      "\n",
      "*   *   *   *   *   *   *   *   \n",
      "\n",
      "*   *   *   *   *   *   *   *   \n",
      "\n",
      "*   *   *   *   *   *   *   *   \n",
      "\n",
      "\u001b[H\u001b[2J           Shape Drawn\n",
      "1. Print right angled triangle\n",
      "2. Print square\n",
      "3. Print triangle\n",
      "4. Print inverted triangle\n",
      "5. Print dimond\n",
      "6. Exit\n"
     ]
    },
    {
     "name": "stdin",
     "output_type": "stream",
     "text": [
      "Please enter a valid choice:  3\n",
      "Enter number of rows:  8\n"
     ]
    },
    {
     "name": "stdout",
     "output_type": "stream",
     "text": [
      "              * \n",
      "\n",
      "            * * * \n",
      "\n",
      "          * * * * * \n",
      "\n",
      "        * * * * * * * \n",
      "\n",
      "      * * * * * * * * * \n",
      "\n",
      "    * * * * * * * * * * * \n",
      "\n",
      "  * * * * * * * * * * * * * \n",
      "\n",
      "* * * * * * * * * * * * * * * \n",
      "\n",
      "\u001b[H\u001b[2J           Shape Drawn\n",
      "1. Print right angled triangle\n",
      "2. Print square\n",
      "3. Print triangle\n",
      "4. Print inverted triangle\n",
      "5. Print dimond\n",
      "6. Exit\n"
     ]
    },
    {
     "name": "stdin",
     "output_type": "stream",
     "text": [
      "Please enter a valid choice:  4\n",
      "Enter number of rows:  8\n"
     ]
    },
    {
     "name": "stdout",
     "output_type": "stream",
     "text": [
      "* * * * * * * * * * * * * * * \n",
      "\n",
      "  * * * * * * * * * * * * * \n",
      "\n",
      "    * * * * * * * * * * * \n",
      "\n",
      "      * * * * * * * * * \n",
      "\n",
      "        * * * * * * * \n",
      "\n",
      "          * * * * * \n",
      "\n",
      "            * * * \n",
      "\n",
      "              * \n",
      "\n",
      "\u001b[H\u001b[2J           Shape Drawn\n",
      "1. Print right angled triangle\n",
      "2. Print square\n",
      "3. Print triangle\n",
      "4. Print inverted triangle\n",
      "5. Print dimond\n",
      "6. Exit\n"
     ]
    },
    {
     "name": "stdin",
     "output_type": "stream",
     "text": [
      "Please enter a valid choice:  5\n",
      "Enter number of rows:  8\n"
     ]
    },
    {
     "name": "stdout",
     "output_type": "stream",
     "text": [
      "      * \n",
      "\n",
      "    * * * \n",
      "\n",
      "  * * * * * \n",
      "\n",
      "* * * * * * * \n",
      "\n",
      "* * * * * * * \n",
      "\n",
      "  * * * * * \n",
      "\n",
      "    * * * \n",
      "\n",
      "      * \n",
      "\n",
      "\u001b[H\u001b[2J           Shape Drawn\n",
      "1. Print right angled triangle\n",
      "2. Print square\n",
      "3. Print triangle\n",
      "4. Print inverted triangle\n",
      "5. Print dimond\n",
      "6. Exit\n"
     ]
    },
    {
     "name": "stdin",
     "output_type": "stream",
     "text": [
      "Please enter a valid choice:  6\n"
     ]
    }
   ],
   "source": [
    "import os\n",
    "#Small Menu Deiven\n",
    "choices = {\n",
    "    1 : right_angled_triangle,\n",
    "    2 : square,\n",
    "    3 : triangle,\n",
    "    4 : inverted_triangle,\n",
    "    5 : dimond,\n",
    "    6 : exit\n",
    "}\n",
    "\n",
    "while True:\n",
    "    os.system(\"clear\")\n",
    "    print(f\"{\" \" * 10} Shape Drawn\")\n",
    "    print(\"1. Print right angled triangle\")\n",
    "    print(\"2. Print square\")\n",
    "    print(\"3. Print triangle\")\n",
    "    print(\"4. Print inverted triangle\")\n",
    "    print(\"5. Print dimond\")\n",
    "    print(\"6. Exit\")\n",
    "\n",
    "    your_choice = int(input(\"Please enter a valid choice: \"))\n",
    "    if your_choice == 6:\n",
    "        break\n",
    "    choices[your_choice](int(input(\"Enter number of rows: \")))    \n",
    "    "
   ]
  },
  {
   "cell_type": "code",
   "execution_count": 20,
   "id": "222078bd-3209-41ba-aafa-d4770270030b",
   "metadata": {},
   "outputs": [],
   "source": []
  },
  {
   "cell_type": "markdown",
   "id": "38adfa3b-3407-4995-a1f3-b2c2b2b933b9",
   "metadata": {},
   "source": [
    "### Problem 08: Factorial Calculator"
   ]
  },
  {
   "cell_type": "code",
   "execution_count": 17,
   "id": "ac8d53ef-995a-46d1-be1c-902495cbed8b",
   "metadata": {},
   "outputs": [],
   "source": [
    "def factorial(num):\n",
    "    \"\"\"\n",
    "    Calculate the factorial of a positive integer\n",
    "\n",
    "    Args:\n",
    "    num(int): Input integer\n",
    "\n",
    "    Return:\n",
    "    Integer value\n",
    "    \"\"\"\n",
    "\n",
    "    #Handling edge case by setting zero factorial to 1\n",
    "    fact = 1\n",
    "    #Compute factorial\n",
    "    for i in range(num):\n",
    "        fact *= num - i\n",
    "\n",
    "    return fact"
   ]
  },
  {
   "cell_type": "code",
   "execution_count": 18,
   "id": "9cff0484-5d8d-4746-b5df-134c4899bc8c",
   "metadata": {},
   "outputs": [
    {
     "name": "stdin",
     "output_type": "stream",
     "text": [
      "Enter a valid number:  9\n"
     ]
    },
    {
     "name": "stdout",
     "output_type": "stream",
     "text": [
      "The factorial of 9 is 362880\n"
     ]
    }
   ],
   "source": [
    "# Test the logic\n",
    "num = int(input(\"Enter a valid number: \"))\n",
    "print(f\"The factorial of {num} is {factorial(num)}\")\n"
   ]
  },
  {
   "cell_type": "code",
   "execution_count": null,
   "id": "414e1476-8aa1-472e-bddb-884578417601",
   "metadata": {},
   "outputs": [],
   "source": []
  },
  {
   "cell_type": "markdown",
   "id": "bc6c8677-2ca9-4e70-a8c2-642070ffa10d",
   "metadata": {},
   "source": [
    "### Problem 09: String Reversal without builtin function "
   ]
  },
  {
   "cell_type": "code",
   "execution_count": 19,
   "id": "49e720fc-3175-4652-ad8b-f0ca548e28f7",
   "metadata": {},
   "outputs": [],
   "source": [
    "def string_reverse(str):\n",
    "    \"\"\"\n",
    "    Reverse the given string by swapping\n",
    "\n",
    "    Args:\n",
    "    str(str): Input string\n",
    "\n",
    "    Return:\n",
    "    Reverse of a string\n",
    "    \"\"\"\n",
    "    rev_str = \"\"\n",
    "    for i in range(len(str) - 1, -1, -1):\n",
    "        #Concatenating the characters of 'str' with rev_str\n",
    "        rev_str += str[i]\n",
    "\n",
    "    return rev_str\n",
    "    "
   ]
  },
  {
   "cell_type": "code",
   "execution_count": 20,
   "id": "5c81e4d3-f48d-493c-968b-10763dac9575",
   "metadata": {},
   "outputs": [
    {
     "name": "stdin",
     "output_type": "stream",
     "text": [
      "Enter the string:  Zakir Rashid!\n"
     ]
    },
    {
     "name": "stdout",
     "output_type": "stream",
     "text": [
      "The reverse of string 'Zakir Rashid!' is '!dihsaR rikaZ'\n"
     ]
    }
   ],
   "source": [
    "#Test the logic\n",
    "str = input(\"Enter the string: \")\n",
    "print(f\"The reverse of string '{str}' is '{string_reverse(str)}'\")\n"
   ]
  },
  {
   "cell_type": "code",
   "execution_count": null,
   "id": "2f20e911-ecb9-404a-af35-b0d83f73acb7",
   "metadata": {},
   "outputs": [],
   "source": []
  },
  {
   "cell_type": "markdown",
   "id": "8bb496ac-4762-496e-8f9b-bbf17c4a5682",
   "metadata": {},
   "source": [
    "### Problem 09: Sum of Digits Recursively"
   ]
  },
  {
   "cell_type": "code",
   "execution_count": 21,
   "id": "4b248ab6-19f5-4c64-b8cf-c1dfde0eebe5",
   "metadata": {},
   "outputs": [],
   "source": [
    "def sum_of_digits(num):\n",
    "    \"\"\"\n",
    "    Compute sum of digits for a given number\n",
    "\n",
    "    Args:\n",
    "    num(int): Input number\n",
    "\n",
    "    Return:\n",
    "    Sum of digits\n",
    "    \"\"\"\n",
    "\n",
    "    #Base case\n",
    "    if num == 0:\n",
    "        return 0\n",
    "    return num % 10 + sum_of_digits(num // 10)"
   ]
  },
  {
   "cell_type": "code",
   "execution_count": 22,
   "id": "ac41d746-5a4e-471d-9dbb-c52cc3f783db",
   "metadata": {},
   "outputs": [
    {
     "name": "stdin",
     "output_type": "stream",
     "text": [
      "Enter the number:  1729\n"
     ]
    },
    {
     "name": "stdout",
     "output_type": "stream",
     "text": [
      "The sum of digits of the given number '1729' is '19'\n"
     ]
    }
   ],
   "source": [
    "#Test the logic\n",
    "num = int(input(\"Enter the number: \"))\n",
    "print(f\"The sum of digits of the given number '{num}' is '{sum_of_digits(num)}'\")"
   ]
  },
  {
   "cell_type": "code",
   "execution_count": null,
   "id": "6032249c-fb2b-489b-99fc-d9d65c30adc6",
   "metadata": {},
   "outputs": [],
   "source": []
  },
  {
   "cell_type": "markdown",
   "id": "fd6e1812-8b31-4f8a-bfa5-b6d2568558a3",
   "metadata": {},
   "source": [
    "### Problem 10: Armstrong Number Checker"
   ]
  },
  {
   "cell_type": "code",
   "execution_count": 23,
   "id": "cef645fb-b4d8-4cc7-8d57-9316d45f8a8f",
   "metadata": {},
   "outputs": [],
   "source": [
    "def is_armstrong(num):\n",
    "    \"\"\"\n",
    "    Check whether the given number is armstrong or not\n",
    "\n",
    "    Args:\n",
    "    num(int): Input number\n",
    "\n",
    "    Return:\n",
    "    True if armstrong else False\n",
    "    \"\"\"\n",
    "\n",
    "    #Assign orginal value to temp, and made necessary changes to temp\n",
    "    temp = num\n",
    "    sum = 0\n",
    "    while temp:\n",
    "        #Compute remainder\n",
    "        rem = temp % 10\n",
    "        \n",
    "        #Compute sum of cubes of each digit\n",
    "        sum += rem ** 3\n",
    "        temp = temp // 10\n",
    "    if sum == num:\n",
    "        return True\n",
    "    else:\n",
    "        return False\n",
    "        "
   ]
  },
  {
   "cell_type": "code",
   "execution_count": 24,
   "id": "93093408-28f6-4ef8-ba2d-916ebaf0072d",
   "metadata": {},
   "outputs": [
    {
     "name": "stdin",
     "output_type": "stream",
     "text": [
      "Enter a valid number:  1789\n"
     ]
    },
    {
     "name": "stdout",
     "output_type": "stream",
     "text": [
      "Given number '1789' is NOT an armstrong number\n"
     ]
    }
   ],
   "source": [
    "#Test the logic\n",
    "num = int(input(\"Enter a valid number: \"))\n",
    "if is_armstrong(num):\n",
    "    print(f\"Given number '{num}' is an armstrong number\")\n",
    "else:\n",
    "    print(f\"Given number '{num}' is NOT an armstrong number\")\n",
    "    \n",
    "    "
   ]
  },
  {
   "cell_type": "code",
   "execution_count": null,
   "id": "1668c1b2-260b-49db-a94d-979faf3ecb80",
   "metadata": {},
   "outputs": [],
   "source": []
  },
  {
   "cell_type": "markdown",
   "id": "65759c39-1550-4e33-b247-70bea654d252",
   "metadata": {},
   "source": [
    "### Problem 11: Pascal's Triangle"
   ]
  },
  {
   "cell_type": "code",
   "execution_count": 25,
   "id": "e0788c4b-6e68-47f6-b4de-14bf93ea3060",
   "metadata": {},
   "outputs": [],
   "source": [
    "#Compute factorial\n",
    "def factorial(num):\n",
    "    fact = 1\n",
    "    for i in range(num):\n",
    "        fact *= num - i\n",
    "\n",
    "    return fact\n",
    "\n",
    "\n",
    "#Compute nCr\n",
    "def binomial_cofficient(n, r):\n",
    "    #Compute value of binomial cofficient\n",
    "    value = int(factorial(n) / (factorial(n - r) * factorial(r)))\n",
    "    \n",
    "    return value\n",
    "        \n",
    "\n",
    "\n",
    "def pascals_triangle(rows):\n",
    "    \"\"\"\n",
    "    Display pascal's triangle upto given range\n",
    "\n",
    "    Args:\n",
    "    num(int): Input number\n",
    "\n",
    "    Return:\n",
    "    Displays pascals triangle\n",
    "    \"\"\"\n",
    "    for i in range(rows):\n",
    "        #Print spaces to align binomial cofficients\n",
    "        for _ in range(rows - i - 1):\n",
    "            print(\" \", end=\"\")\n",
    "        #Append binomial cofficents at right places\n",
    "        for j in range(i + 1):\n",
    "            print(binomial_cofficient(i, j), end=\" \")\n",
    "\n",
    "        print(\"\\r\")\n",
    "    "
   ]
  },
  {
   "cell_type": "code",
   "execution_count": 26,
   "id": "d9916526-70de-47e8-9ed5-c964e2012d53",
   "metadata": {},
   "outputs": [
    {
     "name": "stdin",
     "output_type": "stream",
     "text": [
      "Enter number of rows:  6\n"
     ]
    },
    {
     "name": "stdout",
     "output_type": "stream",
     "text": [
      "     1 \n",
      "    1 1 \n",
      "   1 2 1 \n",
      "  1 3 3 1 \n",
      " 1 4 6 4 1 \n",
      "1 5 10 10 5 1 \n"
     ]
    }
   ],
   "source": [
    "rows = int(input(\"Enter number of rows: \"))\n",
    "pascals_triangle(rows)"
   ]
  },
  {
   "cell_type": "code",
   "execution_count": null,
   "id": "0b97ac49-1911-4356-9403-8dad94535f98",
   "metadata": {},
   "outputs": [],
   "source": []
  }
 ],
 "metadata": {
  "kernelspec": {
   "display_name": "Python 3 (ipykernel)",
   "language": "python",
   "name": "python3"
  },
  "language_info": {
   "codemirror_mode": {
    "name": "ipython",
    "version": 3
   },
   "file_extension": ".py",
   "mimetype": "text/x-python",
   "name": "python",
   "nbconvert_exporter": "python",
   "pygments_lexer": "ipython3",
   "version": "3.12.2"
  }
 },
 "nbformat": 4,
 "nbformat_minor": 5
}
